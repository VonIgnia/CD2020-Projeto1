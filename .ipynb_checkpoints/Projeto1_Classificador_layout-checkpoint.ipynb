{
 "cells": [
  {
   "cell_type": "markdown",
   "metadata": {},
   "source": [
    "# Projeto 1 - Ciência dos Dados"
   ]
  },
  {
   "cell_type": "markdown",
   "metadata": {},
   "source": [
    "Nome: Giovanni Rozatti\n",
    "\n",
    "Nome: Gabriel Parfan Guimarães"
   ]
  },
  {
   "cell_type": "markdown",
   "metadata": {},
   "source": [
    "Atenção: Serão permitidos grupos de três pessoas, mas com uma rubrica mais exigente. Grupos deste tamanho precisarão fazer um questionário de avaliação de trabalho em equipe"
   ]
  },
  {
   "cell_type": "markdown",
   "metadata": {},
   "source": [
    "___\n",
    "Carregando algumas bibliotecas:"
   ]
  },
  {
   "cell_type": "code",
   "execution_count": 1,
   "metadata": {},
   "outputs": [],
   "source": [
    "%matplotlib inline\n",
    "import pandas as pd\n",
    "import matplotlib.pyplot as plt\n",
    "import numpy as np\n",
    "import os"
   ]
  },
  {
   "cell_type": "code",
   "execution_count": 2,
   "metadata": {
    "scrolled": false
   },
   "outputs": [
    {
     "name": "stdout",
     "output_type": "stream",
     "text": [
      "Esperamos trabalhar no diretório\n",
      "C:\\Users\\User\\OneDrive - Insper - Institudo de Ensino e Pesquisa\\Desktop\\Insper\\2°Semestre DP\\CDados\\CD2020-Projeto1\n"
     ]
    }
   ],
   "source": [
    "print('Esperamos trabalhar no diretório')\n",
    "print(os.getcwd())"
   ]
  },
  {
   "cell_type": "markdown",
   "metadata": {},
   "source": [
    "Carregando a base de dados com os tweets classificados como relevantes e não relevantes:"
   ]
  },
  {
   "cell_type": "code",
   "execution_count": 3,
   "metadata": {},
   "outputs": [],
   "source": [
    "#dados = pd.read_excel('PRODUTO.xlsx')"
   ]
  },
  {
   "cell_type": "markdown",
   "metadata": {},
   "source": [
    "___\n",
    "## Classificador automático de sentimento\n"
   ]
  },
  {
   "cell_type": "markdown",
   "metadata": {},
   "source": [
    "Faça aqui uma descrição do seu produto e o que considerou como relevante ou não relevante na classificação dos tweets.\n",
    "\n",
    "- Produto escolhido: Atila Iamariano\n",
    "- Descrição do Produto: \n",
    "    Atila Iamarino (1984)é um biólogo e pesquisador brasileiro formado em microbiologia, possuindo também doutorado em virologia, notório por seu trabalho no canal de YouTube denominado \"Nerdologia\",que possui mais de 2 milhões de inscritos e integra o grupo Jovem Nerd, uma plataforma digital de cultura pop, jogos eletrônicos e conteúdo jovem. -Wikipedia\n",
    "    Átila já era bastante conhecido por seu canal no Youtube e por sua participação em podcasts, principalment do podcast Jovem Nerd) popularidade de Atila cresceu bastante atualmente, principalmente por conta do COVID-19, chegando a transmitir lives diárias, para falar da situação atual, cuidados preventivos e fazendo predições com uso de estatísticas e dados sobre como a situação se desdobraria, chegando a até mesmo a participar de um Programa do Roda-Viva `https://www.youtube.com/watch?v=s00BzYazxvU`\n",
    "    ________________________________________________________________________________________________"
   ]
  },
  {
   "cell_type": "markdown",
   "metadata": {},
   "source": [
    "- Método de classificação: \n",
    "foram realizados 2 níveis de classificação, no primeiro foi classificada a relêvancia da mensagem, e no segundo era avaliado o teor da mensagem\n",
    "___\n",
    "\n",
    "Nível 1 de classificação:\n",
    "\n",
    "- Relevante: Tweets que contribuiriam com o processo de classificação por estarem relacionados ou ao tema discutido ou a algo próximo e/ou que continham elementos possiveis para que fosse feita a classificação do teor de sua mensagem  \n",
    "    \n",
    "- Irrelevante: Tweets que não contribuiam com o processo de classificação e/ou não podiam ser classificados por falta de elementos que possibilitassem isso,como por exemplo: \"@atila que hrs são\" (esse tweet de fato apareeu na base de dados)  \n",
    "    \n",
    "- Opinião Política: Tweets que continham mensagens de teor político e/ou próximos a política explícitos, como por exemplo, os termos que apareceram com recorrencia considerável : \"bolsominion\" e \"comunista\"\n",
    "    \n",
    "Nesse nível as mensagens foram separadas nas três categorias acima, com o objetivo de fazer uma refiltragem dos tweets obtidos, originalmente seriam apenas duas categorias (Relevante e Irrelevante), no entanto ao decorrer do processo foi vista a necessidade de estender ainda mais esse escopo, isso possibilitará a classificação das mensagens excluindo as irrelevantes e as que possuem teor político, assim como a classificação excluindo apenas as irrelevantes nos fornecendo como resultado a resposta da pergunta:\n",
    "\"Quanto as mensagens com teor político influenciam de fato na classificação?\"\n",
    "___\n",
    "\n",
    "\n",
    "as frases foram classificadas de acordo com a seguinte estrutura:\n",
    "I)Se possível classificar como o classifiador Naive Bayes final do projeto fará, isso é analisar as palavras individualmente tentando prever o resultado da classificação.*\n",
    "II)Se não possível via método anterior classificar a frase como um todo\n",
    "- Classificações atribuidas e o que levou a atribuirmos fraases a elas \n",
    "    - Show and tell: Tweets que em geral além de serem mensagens de apoiar/concordar, traziam perguntas, pesquisas, dados, materiais de referencia e fontes para embasamentos e reflexões, em geral continham teor similar ao dos exemplos a seguir: \"@oatila @maisalguem vocês viram isso?\", \"@atila, o que voce acha de...?\"  \n",
    "    \n",
    "    - Apoia/concorda: Tweets que em geral dizem: \"@oatila parabens pelo trabalho\", \"@oatila bacana essa info que você apresentou\"  \n",
    "    \n",
    "    - Discorda/Desacredita: Tweets que em geral fazem críticas ao trabalho feito, ou a uma posição que foi tomada, não necessariamente apresentando embasamento sobre o porque da crítica  \n",
    "    \n",
    "    - Mensagem de ódio:Tweets que apresentam mensagens ofensivas a esmo, (não necessáriamente ao biologo, mas ainda assim perinentes ao trabalho como será visto mais adiante nesse Notebook)  \n",
    "    \n",
    "- Observação: a estrutura do código a seguir é similar ao do usado no meu trabalho no semestre anterior (perfil no git: VonIgnia), e pode ser visto em: `https://github.com/carolinechaim/Projeto_2/blob/master/NaiveBayes teste 1.ipynb` mais especificamente nos commits \"Planilha teste rodando no Jupyter\" e \"Planilha teste rodando os classificadores NaiveBayes\"."
   ]
  },
  {
   "cell_type": "markdown",
   "metadata": {},
   "source": [
    "___\n",
    "### Montando um Classificador Naive-Bayes\n",
    "\n",
    "Considerando apenas as mensagens da planilha Treinamento, ensine  seu classificador."
   ]
  },
  {
   "cell_type": "code",
   "execution_count": 4,
   "metadata": {},
   "outputs": [],
   "source": [
    "train = pd.read_excel(\"@oatila1.xlsx\",sheet_name = 'Treinamento', index = False)\n",
    "#Lê as planilhas de treinamento"
   ]
  },
  {
   "cell_type": "code",
   "execution_count": 5,
   "metadata": {},
   "outputs": [],
   "source": [
    "probs = train[\"Opinião Pública\"].value_counts(True);\n",
    "#Calculando as frequências relativas de cada categoria"
   ]
  },
  {
   "cell_type": "code",
   "execution_count": 6,
   "metadata": {},
   "outputs": [],
   "source": [
    "prob_OP = probs[0] #Opinião Positiva\n",
    "prob_ON = probs[1] #Opinião Negativa"
   ]
  },
  {
   "cell_type": "markdown",
   "metadata": {},
   "source": [
    "Separa todas as palavras que aparecem em cada categoria, não levando em conta repetições\n",
    "(caso uma palavra apareça mais de uma vez em uma mesma categoria, ela será contabilizada apenas uma vez naquela categoria "
   ]
  },
  {
   "cell_type": "code",
   "execution_count": 7,
   "metadata": {},
   "outputs": [],
   "source": [
    "ON = train[train[\"Opinião\"] == 0]\n",
    "ON = ON[\"Treinamento\"].str.cat().split()\n",
    "series_ON = pd.Series(ON)"
   ]
  },
  {
   "cell_type": "code",
   "execution_count": 8,
   "metadata": {},
   "outputs": [],
   "source": [
    "OP = train[train[\"Opinião\"] == 1]\n",
    "OP = OP[\"Treinamento\"].str.cat().split()\n",
    "series_OP = pd.Series(OP)"
   ]
  },
  {
   "cell_type": "markdown",
   "metadata": {},
   "source": [
    "Criando uma \"tabela\" com a probabilidade individual de todas as palavras aparecerem em uma dada categoria\n",
    "(\"Dado que a opinião é essa qual a probabilidade dessa palavra aparecer?\")"
   ]
  },
  {
   "cell_type": "code",
   "execution_count": 9,
   "metadata": {},
   "outputs": [],
   "source": [
    "tabela_negativa = series_ON.value_counts(True)\n",
    "tabela_negativa;"
   ]
  },
  {
   "cell_type": "code",
   "execution_count": 10,
   "metadata": {},
   "outputs": [],
   "source": [
    "tabela_positiva = series_OP.value_counts(True)\n",
    "tabela_positiva;"
   ]
  },
  {
   "cell_type": "markdown",
   "metadata": {},
   "source": [
    "Criando uma função que faz o calculo da frase pertencer a uma categoria utilizando a fórmula de bayes"
   ]
  },
  {
   "cell_type": "code",
   "execution_count": 11,
   "metadata": {},
   "outputs": [],
   "source": [
    "def classificador_de_palavras_naive_bayes(tweet):\n",
    "    lista_palavras = tweet.split()\n",
    "    prob_positivo = 1\n",
    "    prob_negativo = 1\n",
    "    for palavra in lista_palavras:\n",
    "        if palavra in tabela_negativa.index:\n",
    "            prob_palavra_negativa = tabela_negativa[palavra]\n",
    "        else:\n",
    "            prob_palavra_negativa = 1\n",
    "        if palavra in tabela_positiva.index:\n",
    "             prob_palavra_positivo = tabela_positiva[palavra]\n",
    "        else:\n",
    "             prob_palavra_positivo = 1\n",
    "        prob_negativo *= prob_palavra_negativa\n",
    "        prob_positivo *= prob_palavra_positivo\n",
    "        if (prob_negativo > prob_positivo):\n",
    "            return \"Negativo\"\n",
    "        else:\n",
    "            return \"Positivo\""
   ]
  },
  {
   "cell_type": "markdown",
   "metadata": {},
   "source": [
    "___\n",
    "### Verificando a performance do Classificador\n",
    "\n",
    "Agora você deve testar o seu classificador com a base de Testes."
   ]
  },
  {
   "cell_type": "markdown",
   "metadata": {},
   "source": [
    "leitura da planilha para testes com o classificador"
   ]
  },
  {
   "cell_type": "code",
   "execution_count": 12,
   "metadata": {},
   "outputs": [],
   "source": [
    "test = pd.read_excel(\"Cinemark segunda 16-03.xlsx\",sheet_name = 'Teste', index = False).set_index(\"Teste\")\n",
    "lista_tweets = list(test.index)"
   ]
  },
  {
   "cell_type": "code",
   "execution_count": 13,
   "metadata": {},
   "outputs": [
    {
     "data": {
      "text/html": [
       "<div>\n",
       "<style scoped>\n",
       "    .dataframe tbody tr th:only-of-type {\n",
       "        vertical-align: middle;\n",
       "    }\n",
       "\n",
       "    .dataframe tbody tr th {\n",
       "        vertical-align: top;\n",
       "    }\n",
       "\n",
       "    .dataframe thead th {\n",
       "        text-align: right;\n",
       "    }\n",
       "</style>\n",
       "<table border=\"1\" class=\"dataframe\">\n",
       "  <thead>\n",
       "    <tr style=\"text-align: right;\">\n",
       "      <th></th>\n",
       "      <th>Classificação</th>\n",
       "    </tr>\n",
       "    <tr>\n",
       "      <th>Teste</th>\n",
       "      <th></th>\n",
       "    </tr>\n",
       "  </thead>\n",
       "  <tbody>\n",
       "    <tr>\n",
       "      <th>@peresftw vamos apresentar isso no cinemark agora msm</th>\n",
       "      <td>Positivo</td>\n",
       "    </tr>\n",
       "    <tr>\n",
       "      <th>cinemark eu queria saber oq q eu te fiz me diz onde foi q eu errei</th>\n",
       "      <td>Positivo</td>\n",
       "    </tr>\n",
       "    <tr>\n",
       "      <th>vcs compram no proprio site do cinemark ou no ingresso. com??????</th>\n",
       "      <td>Negativo</td>\n",
       "    </tr>\n",
       "    <tr>\n",
       "      <th>@canellamatheus quando lançar vamo todo mundo na locadora de paraibúna hackear um cinemark pra poder ver space jam 2 online gratis 3d</th>\n",
       "      <td>Positivo</td>\n",
       "    </tr>\n",
       "    <tr>\n",
       "      <th>é bom que o cinemark tenha um combo bonito de bw hein</th>\n",
       "      <td>Positivo</td>\n",
       "    </tr>\n",
       "    <tr>\n",
       "      <th>@gabrielaberte1 às quartas, o valor é meia para todos (varia de 12 a 16). com um dos benefícios que citei (além também do cartão fidelidade deles, o cinemark mania), você pode pagar meia da meia entrada já vigente, ou seja, sai até por 6, 8 reais a entrada.</th>\n",
       "      <td>Positivo</td>\n",
       "    </tr>\n",
       "    <tr>\n",
       "      <th>lembrabdo q eu quase chorei pq n pude comprar o tordo na promocao q teve na cinemark no esperanca parte1acho.... caras eu ia andar c o broche de um lado pro outro</th>\n",
       "      <td>Positivo</td>\n",
       "    </tr>\n",
       "    <tr>\n",
       "      <th>galera, vamos falar sério? aproveitem as festas dessa semana como se fossem as últimas.\\nvale lembrar o cinemark já tá fechado, e algumas cidades já estão cancelando seus eventos.\\naproveitem enquanto ainda podemos nos dar esse luxo.\\ncomo produtora, já estou esperando a bomba.</th>\n",
       "      <td>Positivo</td>\n",
       "    </tr>\n",
       "    <tr>\n",
       "      <th>eu juro que se a cinemark contratasse o joão de novo, eu voltaria a trabalhar lá só por causa dele</th>\n",
       "      <td>Negativo</td>\n",
       "    </tr>\n",
       "    <tr>\n",
       "      <th>querido @cinemark as pessoas tb querem ver filmes antes das 14hs</th>\n",
       "      <td>Positivo</td>\n",
       "    </tr>\n",
       "    <tr>\n",
       "      <th>e eu que vou assistir sonic sozinho na sala de cinema do cinemark com o boy.</th>\n",
       "      <td>Negativo</td>\n",
       "    </tr>\n",
       "    <tr>\n",
       "      <th>a cinemark ta mt fértil 🤣</th>\n",
       "      <td>Negativo</td>\n",
       "    </tr>\n",
       "    <tr>\n",
       "      <th>cinemark correndo risco de fechar e a gente tá fazendo piada aqui kkkkkkkk\\nrir p não chorar né</th>\n",
       "      <td>Positivo</td>\n",
       "    </tr>\n",
       "    <tr>\n",
       "      <th>boa pra quem ganhou ingressos pra sala “namoradeira” da cinemark e não tem ninguém pra levar em uma sala dessas huahauahauh</th>\n",
       "      <td>Positivo</td>\n",
       "    </tr>\n",
       "    <tr>\n",
       "      <th>@agatavlima se bem que o cinemark ta com programação normal no app</th>\n",
       "      <td>Positivo</td>\n",
       "    </tr>\n",
       "    <tr>\n",
       "      <th>pior q o cinemark já tava até vendendo o combo de #mulan no app... a dor de cabeça q vai dar agr, com a galera q já comprou</th>\n",
       "      <td>Positivo</td>\n",
       "    </tr>\n",
       "    <tr>\n",
       "      <th>trabalhar no cinemark hmmmm espero que tenha desconto no cinema shajdjashalsbaisbahd</th>\n",
       "      <td>Negativo</td>\n",
       "    </tr>\n",
       "    <tr>\n",
       "      <th>@asuos93 n vai ter filme novo por um tempo. tô torcendo pra umas seções especiais no cinemark, e uns descontos no net now.</th>\n",
       "      <td>Positivo</td>\n",
       "    </tr>\n",
       "    <tr>\n",
       "      <th>#doisirmaos... 👫🎟️🎥 (@ cinemark in belo horizonte, mg w/ @dollziinha) https://t.co/sixuhtntkd</th>\n",
       "      <td>Positivo</td>\n",
       "    </tr>\n",
       "    <tr>\n",
       "      <th>que??? do jeito que q cinemark é continua funcionando do mesmo jeito https://t.co/sge9sllvr7</th>\n",
       "      <td>Positivo</td>\n",
       "    </tr>\n",
       "    <tr>\n",
       "      <th>meu cartão cinemark mania q tem estampado o one direction completo ta cancelado\\n\\nai a vontade de chorar é grande</th>\n",
       "      <td>Positivo</td>\n",
       "    </tr>\n",
       "    <tr>\n",
       "      <th>eu hoje chegando cinemark pela 3ª vez na semana https://t.co/ltzijurpgf</th>\n",
       "      <td>Negativo</td>\n",
       "    </tr>\n",
       "    <tr>\n",
       "      <th>tá na hora de ativar o free pass do cinemark né, mó cota já que não vejo um filme</th>\n",
       "      <td>Positivo</td>\n",
       "    </tr>\n",
       "    <tr>\n",
       "      <th>tenho duas possíveis formas para encontrá-lo \\n\\nse ele comprou o ingresso por cartão e o cinemark liberar a lista de ingressos pra mim. mas não sei como faço esse procedimento.\\n\\nou caçando na internet outros casos até chegar nele.\\n\\nme ajudem!</th>\n",
       "      <td>Positivo</td>\n",
       "    </tr>\n",
       "    <tr>\n",
       "      <th>@spidernova_ como se a cinemark pudesse ir lá, pegar o dvd e cortar a tal parte 😍</th>\n",
       "      <td>Positivo</td>\n",
       "    </tr>\n",
       "    <tr>\n",
       "      <th>o kinoplex, o cinemark e a cinepolis daqui algumas semanas sem nada pra colocar em cartaz. https://t.co/izqxvrjaio</th>\n",
       "      <td>Negativo</td>\n",
       "    </tr>\n",
       "    <tr>\n",
       "      <th>inserem esse cinemark prime, vou ter q ver se é bom mesmo</th>\n",
       "      <td>Positivo</td>\n",
       "    </tr>\n",
       "    <tr>\n",
       "      <th>o cinemark finalmente conseguiu me fazer colocar cpf na compra depois desse negócio de acumular pontos e descontos no cinemark mania https://t.co/vrtwupjtgz</th>\n",
       "      <td>Negativo</td>\n",
       "    </tr>\n",
       "    <tr>\n",
       "      <th>@gisellerdg eu assisti no cinemark</th>\n",
       "      <td>Positivo</td>\n",
       "    </tr>\n",
       "    <tr>\n",
       "      <th>eu tava muito pitica pra ir pra aquela entrevista e nao cknsegui o emprego porra cinemark https://t.co/kciplffsh3</th>\n",
       "      <td>Negativo</td>\n",
       "    </tr>\n",
       "    <tr>\n",
       "      <th>...</th>\n",
       "      <td>...</td>\n",
       "    </tr>\n",
       "    <tr>\n",
       "      <th>eu hj no cinemark depois de quase dois anos sem pisar num cinema \\n https://t.co/0lsycubgar</th>\n",
       "      <td>Negativo</td>\n",
       "    </tr>\n",
       "    <tr>\n",
       "      <th>@fredelima aproveita que hoje o cinemark o valor é promocional</th>\n",
       "      <td>Positivo</td>\n",
       "    </tr>\n",
       "    <tr>\n",
       "      <th>@jpaulo645 no cinemark daqui só tem sessão dublada. me recuso 🤣🤣🤣</th>\n",
       "      <td>Positivo</td>\n",
       "    </tr>\n",
       "    <tr>\n",
       "      <th>cinemark mandando email falando pra ir no cinema cês tão doido?</th>\n",
       "      <td>Positivo</td>\n",
       "    </tr>\n",
       "    <tr>\n",
       "      <th>não sei se qro mesmo assistir a maldição do espelho ou eh um pretexto pra comer pipoca do cinemark</th>\n",
       "      <td>Negativo</td>\n",
       "    </tr>\n",
       "    <tr>\n",
       "      <th>@ybullgod se esse paredão acontecer, faço questão de ir no cinemark e comprar pipoca e voltar pra casa e assistir</th>\n",
       "      <td>Positivo</td>\n",
       "    </tr>\n",
       "    <tr>\n",
       "      <th>não tenho mais onde enfiar balde de pipoca mas vou de combo do cinemark sim !</th>\n",
       "      <td>Negativo</td>\n",
       "    </tr>\n",
       "    <tr>\n",
       "      <th>confira os filmes em cartaz do cine cataratas, no cataratas jl, e do cinemark, no catuai paladim\\nhttps://t.co/crhaxhnsv2 https://t.co/etrglcmrqw</th>\n",
       "      <td>Negativo</td>\n",
       "    </tr>\n",
       "    <tr>\n",
       "      <th>veredito: a pipoca ficou idêntica à  pipoca do cinemark. https://t.co/7xvrdfnkif</th>\n",
       "      <td>Positivo</td>\n",
       "    </tr>\n",
       "    <tr>\n",
       "      <th>tá tem no playarte mas eu queria o combo do cinemark😩 https://t.co/r2tw8t3qvt</th>\n",
       "      <td>Positivo</td>\n",
       "    </tr>\n",
       "    <tr>\n",
       "      <th>eu não entendi a cinemark, todos cinemas de sp fecharam e aqui em porto alegre eles só querem reduzir os horários, vai pra porra</th>\n",
       "      <td>Negativo</td>\n",
       "    </tr>\n",
       "    <tr>\n",
       "      <th>@body_snatcherss espero que não, se a cinemark tiver aberta mês que vem eu saio de kit anti-radiação pra ir assistir kkkk</th>\n",
       "      <td>Positivo</td>\n",
       "    </tr>\n",
       "    <tr>\n",
       "      <th>no cinemark:\\n- boa noite fernanda*!\\n- boa noite\\n- fernanda, uma pipoca grande pfv\\n- $15\\n- vem cá. tá saindo uma pipoca nova?\\n- [olha] sim.\\n- tem como esperar?\\n- tem mais gente na fila e\\n- [sussurro] vai ser um segredo nosso.\\n\\nela ri e me manda ficar de canto e vai atender o resto https://t.co/dna77ffcx1</th>\n",
       "      <td>Positivo</td>\n",
       "    </tr>\n",
       "    <tr>\n",
       "      <th>será que o cinemark do internacional tá funcionando</th>\n",
       "      <td>Negativo</td>\n",
       "    </tr>\n",
       "    <tr>\n",
       "      <th>eu me propus a aproveitar mais o que palmas tem de cultura, assisti filmes fora do circuito no cine cultura, blockbusters no cinemark, peças de teatro e corais no fernanda montenegro e sesc, e o carnaval de taquarussu.</th>\n",
       "      <td>Negativo</td>\n",
       "    </tr>\n",
       "    <tr>\n",
       "      <th>o cinemark devia me tratar como rainha devia implorar pela minha presença pois eu sustento essa empresa deviam me nomear embaixadora e me contratar como crítica</th>\n",
       "      <td>Negativo</td>\n",
       "    </tr>\n",
       "    <tr>\n",
       "      <th>porra, o cinemark me dá desconto.\\ndava. https://t.co/ou9u2kwyud</th>\n",
       "      <td>Positivo</td>\n",
       "    </tr>\n",
       "    <tr>\n",
       "      <th>@bolsonarosp e os cinemas\\n\\nhttps://t.co/w32bpk6xv3</th>\n",
       "      <td>Positivo</td>\n",
       "    </tr>\n",
       "    <tr>\n",
       "      <th>eu tenho 50% de desconto no cinemark só que todos os cinemas estão fechados</th>\n",
       "      <td>Negativo</td>\n",
       "    </tr>\n",
       "    <tr>\n",
       "      <th>@biaccbc aham, acho q so o cinemark n fechou, ou entao ainda vai anunciar</th>\n",
       "      <td>Positivo</td>\n",
       "    </tr>\n",
       "    <tr>\n",
       "      <th>e a gnt entrou direto na passagem e o cinemark tava vazio (choque) e ia ter o painel do henry, de the batman e ddo filme do alfred??? ai tava la o vinícius que é um ex crush meu do budismo (fan fact ele foi no ano passado na ccxp e a gnt ficou no painel juntos)</th>\n",
       "      <td>Negativo</td>\n",
       "    </tr>\n",
       "    <tr>\n",
       "      <th>saca só esse job @cinemark https://t.co/bmfm9m4idq</th>\n",
       "      <td>Positivo</td>\n",
       "    </tr>\n",
       "    <tr>\n",
       "      <th>@silencethlambs @beekah_a eu mesma quando tava passando oblivio e miraculer no cinemark\\n19 aninhos sozinha indo ver miraculous no cinema e foda-se</th>\n",
       "      <td>Positivo</td>\n",
       "    </tr>\n",
       "    <tr>\n",
       "      <th>@leegengar, @wesleyol, @canaldocamaleao, vamos levantar um pedido para a cinemark, cinépolis, uci e outras empresas fazerem a mesma promoção aqui...\\n https://t.co/cz1xoatc61</th>\n",
       "      <td>Positivo</td>\n",
       "    </tr>\n",
       "    <tr>\n",
       "      <th>desconto no cinemark hmm</th>\n",
       "      <td>Positivo</td>\n",
       "    </tr>\n",
       "    <tr>\n",
       "      <th>@bancointer seria até legal, se tivesse algo de bom lá. saudades do cinemark né @mastercardbr</th>\n",
       "      <td>Positivo</td>\n",
       "    </tr>\n",
       "    <tr>\n",
       "      <th>meu amigo francisco faz tudo, 3 dias seguidos de mimos da cinemark</th>\n",
       "      <td>Positivo</td>\n",
       "    </tr>\n",
       "    <tr>\n",
       "      <th>cinemark nao fechou</th>\n",
       "      <td>Positivo</td>\n",
       "    </tr>\n",
       "    <tr>\n",
       "      <th>cinemark oferece plano de demissão voluntária para funcionários do rj; kinoplex dá férias coletivas https://t.co/puwjc5dygp</th>\n",
       "      <td>Positivo</td>\n",
       "    </tr>\n",
       "    <tr>\n",
       "      <th>tenho uma cortesia pro cinemark que vence semana que vem, mas os cinemas fecharam por causa do corona vairus!</th>\n",
       "      <td>Positivo</td>\n",
       "    </tr>\n",
       "  </tbody>\n",
       "</table>\n",
       "<p>61 rows × 1 columns</p>\n",
       "</div>"
      ],
      "text/plain": [
       "                                                   Classificação\n",
       "Teste                                                           \n",
       "@peresftw vamos apresentar isso no cinemark ago...      Positivo\n",
       "cinemark eu queria saber oq q eu te fiz me diz ...      Positivo\n",
       "vcs compram no proprio site do cinemark ou no i...      Negativo\n",
       "@canellamatheus quando lançar vamo todo mundo n...      Positivo\n",
       "é bom que o cinemark tenha um combo bonito de b...      Positivo\n",
       "@gabrielaberte1 às quartas, o valor é meia para...      Positivo\n",
       "lembrabdo q eu quase chorei pq n pude comprar o...      Positivo\n",
       "galera, vamos falar sério? aproveitem as festas...      Positivo\n",
       "eu juro que se a cinemark contratasse o joão de...      Negativo\n",
       "querido @cinemark as pessoas tb querem ver film...      Positivo\n",
       "e eu que vou assistir sonic sozinho na sala de ...      Negativo\n",
       "a cinemark ta mt fértil 🤣                               Negativo\n",
       "cinemark correndo risco de fechar e a gente tá ...      Positivo\n",
       "boa pra quem ganhou ingressos pra sala “namorad...      Positivo\n",
       "@agatavlima se bem que o cinemark ta com progra...      Positivo\n",
       "pior q o cinemark já tava até vendendo o combo ...      Positivo\n",
       "trabalhar no cinemark hmmmm espero que tenha de...      Negativo\n",
       "@asuos93 n vai ter filme novo por um tempo. tô ...      Positivo\n",
       "#doisirmaos... 👫🎟️🎥 (@ cinemark in belo horizon...      Positivo\n",
       "que??? do jeito que q cinemark é continua funci...      Positivo\n",
       "meu cartão cinemark mania q tem estampado o one...      Positivo\n",
       "eu hoje chegando cinemark pela 3ª vez na semana...      Negativo\n",
       "tá na hora de ativar o free pass do cinemark né...      Positivo\n",
       "tenho duas possíveis formas para encontrá-lo \\n...      Positivo\n",
       "@spidernova_ como se a cinemark pudesse ir lá, ...      Positivo\n",
       "o kinoplex, o cinemark e a cinepolis daqui algu...      Negativo\n",
       "inserem esse cinemark prime, vou ter q ver se é...      Positivo\n",
       "o cinemark finalmente conseguiu me fazer coloca...      Negativo\n",
       "@gisellerdg eu assisti no cinemark                      Positivo\n",
       "eu tava muito pitica pra ir pra aquela entrevis...      Negativo\n",
       "...                                                          ...\n",
       "eu hj no cinemark depois de quase dois anos sem...      Negativo\n",
       "@fredelima aproveita que hoje o cinemark o valo...      Positivo\n",
       "@jpaulo645 no cinemark daqui só tem sessão dubl...      Positivo\n",
       "cinemark mandando email falando pra ir no cinem...      Positivo\n",
       "não sei se qro mesmo assistir a maldição do esp...      Negativo\n",
       "@ybullgod se esse paredão acontecer, faço quest...      Positivo\n",
       "não tenho mais onde enfiar balde de pipoca mas ...      Negativo\n",
       "confira os filmes em cartaz do cine cataratas, ...      Negativo\n",
       "veredito: a pipoca ficou idêntica à  pipoca do ...      Positivo\n",
       "tá tem no playarte mas eu queria o combo do cin...      Positivo\n",
       "eu não entendi a cinemark, todos cinemas de sp ...      Negativo\n",
       "@body_snatcherss espero que não, se a cinemark ...      Positivo\n",
       "no cinemark:\\n- boa noite fernanda*!\\n- boa noi...      Positivo\n",
       "será que o cinemark do internacional tá funcion...      Negativo\n",
       "eu me propus a aproveitar mais o que palmas tem...      Negativo\n",
       "o cinemark devia me tratar como rainha devia im...      Negativo\n",
       "porra, o cinemark me dá desconto.\\ndava. https:...      Positivo\n",
       "@bolsonarosp e os cinemas\\n\\nhttps://t.co/w32bp...      Positivo\n",
       "eu tenho 50% de desconto no cinemark só que tod...      Negativo\n",
       "@biaccbc aham, acho q so o cinemark n fechou, o...      Positivo\n",
       "e a gnt entrou direto na passagem e o cinemark ...      Negativo\n",
       "saca só esse job @cinemark https://t.co/bmfm9m4idq      Positivo\n",
       "@silencethlambs @beekah_a eu mesma quando tava ...      Positivo\n",
       "@leegengar, @wesleyol, @canaldocamaleao, vamos ...      Positivo\n",
       "desconto no cinemark hmm                                Positivo\n",
       "@bancointer seria até legal, se tivesse algo de...      Positivo\n",
       "meu amigo francisco faz tudo, 3 dias seguidos d...      Positivo\n",
       "cinemark nao fechou                                     Positivo\n",
       "cinemark oferece plano de demissão voluntária p...      Positivo\n",
       "tenho uma cortesia pro cinemark que vence seman...      Positivo\n",
       "\n",
       "[61 rows x 1 columns]"
      ]
     },
     "execution_count": 13,
     "metadata": {},
     "output_type": "execute_result"
    }
   ],
   "source": [
    "for tweet in lista_tweets:\n",
    "    test.loc[tweet,\"Classificação\"] = classificador_de_palavras_naive_bayes(tweet)\n",
    "test"
   ]
  },
  {
   "cell_type": "markdown",
   "metadata": {},
   "source": [
    "___\n",
    "### Concluindo"
   ]
  },
  {
   "cell_type": "markdown",
   "metadata": {},
   "source": [
    "Versão 1  (o objeto de clasificação ainda era Cinemark, mas como os erros daquela versão poderiam se repetir nessa e serviram para reflexões além de elaborações de uma maneira de \"consertá-los\".)\n",
    "22/03- o código roda mas claramente a classificação está com imperfeições isso pode se dar por:\n",
    " - erros de contabilização na fórmula do NaiveBayes\n",
    " - erros na clasificação do excel\n",
    " - certas palavras possuirem um viés deterministico mais forte para um dos lados (no caso a Opinião Positiva)"
   ]
  },
  {
   "cell_type": "code",
   "execution_count": null,
   "metadata": {},
   "outputs": [],
   "source": []
  },
  {
   "cell_type": "markdown",
   "metadata": {},
   "source": [
    "___\n",
    "## Aperfeiçoamento:\n",
    "\n",
    "Os trabalhos vão evoluir em conceito dependendo da quantidade de itens avançados:\n",
    "\n",
    "* Limpar: \\n, :, \", ', (, ), etc SEM remover emojis\n",
    "* Corrigir separação de espaços entre palavras e emojis ou entre emojis e emojis\n",
    "* Propor outras limpezas e transformações que não afetem a qualidade da informação ou classificação\n",
    "* Criar categorias intermediárias de relevância baseadas na probabilidade: ex.: muito relevante, relevante, neutro, irrelevante, muito irrelevante (3 categorias: C, mais categorias conta para B)\n",
    "* Explicar por que não posso usar o próprio classificador para gerar mais amostras de treinamento\n",
    "* Propor diferentes cenários para Naïve Bayes fora do contexto do projeto\n",
    "* Sugerir e explicar melhorias reais com indicações concretas de como implementar (indicar como fazer e indicar material de pesquisa)\n",
    "* Montar um dashboard que periodicamente realiza análise de sentimento e visualiza estes dados"
   ]
  },
  {
   "cell_type": "markdown",
   "metadata": {},
   "source": [
    "___\n",
    "## Referências"
   ]
  },
  {
   "cell_type": "markdown",
   "metadata": {},
   "source": [
    "[Naive Bayes and Text Classification](https://arxiv.org/pdf/1410.5329.pdf)  **Mais completo**\n",
    "\n",
    "[A practical explanation of a Naive Bayes Classifier](https://monkeylearn.com/blog/practical-explanation-naive-bayes-classifier/) **Mais simples**"
   ]
  },
  {
   "cell_type": "code",
   "execution_count": null,
   "metadata": {},
   "outputs": [],
   "source": []
  }
 ],
 "metadata": {
  "kernelspec": {
   "display_name": "Python 3",
   "language": "python",
   "name": "python3"
  },
  "language_info": {
   "codemirror_mode": {
    "name": "ipython",
    "version": 3
   },
   "file_extension": ".py",
   "mimetype": "text/x-python",
   "name": "python",
   "nbconvert_exporter": "python",
   "pygments_lexer": "ipython3",
   "version": "3.7.1"
  }
 },
 "nbformat": 4,
 "nbformat_minor": 4
}
