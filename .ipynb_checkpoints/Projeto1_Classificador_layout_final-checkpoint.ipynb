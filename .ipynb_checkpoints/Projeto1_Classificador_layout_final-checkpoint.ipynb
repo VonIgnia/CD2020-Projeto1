{
 "cells": [
  {
   "cell_type": "markdown",
   "metadata": {},
   "source": [
    "# Projeto 1 - Ciência dos Dados"
   ]
  },
  {
   "cell_type": "markdown",
   "metadata": {},
   "source": [
    "Nome: Giovanni Rozatti\n",
    "\n",
    "Nome: Gabriel Parfan Guimarães"
   ]
  },
  {
   "cell_type": "markdown",
   "metadata": {},
   "source": [
    "Atenção: Serão permitidos grupos de três pessoas, mas com uma rubrica mais exigente. Grupos deste tamanho precisarão fazer um questionário de avaliação de trabalho em equipe"
   ]
  },
  {
   "cell_type": "markdown",
   "metadata": {},
   "source": [
    "___\n",
    "Carregando algumas bibliotecas:"
   ]
  },
  {
   "cell_type": "code",
   "execution_count": 1,
   "metadata": {},
   "outputs": [],
   "source": [
    "%matplotlib inline\n",
    "import pandas as pd\n",
    "import matplotlib.pyplot as plt\n",
    "import numpy as np\n",
    "import os"
   ]
  },
  {
   "cell_type": "code",
   "execution_count": 2,
   "metadata": {
    "scrolled": false
   },
   "outputs": [
    {
     "name": "stdout",
     "output_type": "stream",
     "text": [
      "Esperamos trabalhar no diretório\n",
      "C:\\Users\\User\\OneDrive - Insper - Institudo de Ensino e Pesquisa\\Desktop\\Insper\\2°Semestre DP\\CDados\\CD2020-Projeto1\n"
     ]
    }
   ],
   "source": [
    "print('Esperamos trabalhar no diretório')\n",
    "print(os.getcwd())"
   ]
  },
  {
   "cell_type": "markdown",
   "metadata": {},
   "source": [
    "Carregando a base de dados com os tweets classificados como relevantes e não relevantes:"
   ]
  },
  {
   "cell_type": "markdown",
   "metadata": {},
   "source": [
    "___\n",
    "## Classificador automático de sentimento\n"
   ]
  },
  {
   "cell_type": "markdown",
   "metadata": {},
   "source": [
    "- Produto escolhido: Atila Iamariano (@oatila)\n",
    "- Descrição do Produto: \n",
    "\n",
    "    Atila Iamarino (1984)é um biólogo e pesquisador brasileiro formado em microbiologia, possuindo também doutorado em virologia, notório por seu trabalho no canal de YouTube denominado \"Nerdologia\",que possui mais de 2 milhões de inscritos e integra o grupo Jovem Nerd, uma plataforma digital de cultura pop, jogos eletrônicos e conteúdo jovem. -Wikipedia  \n",
    "    \n",
    "    Átila já era bastante conhecido por seu canal no Youtube e por sua participação em podcasts, principalment do podcast Jovem Nerd) popularidade de Atila cresceu bastante atualmente, principalmente por conta do COVID-19, chegando a transmitir lives diárias, para falar da situação atual, cuidados preventivos e fazendo predições com uso de estatísticas e dados sobre como a situação se desdobraria, chegando a até mesmo a participar de um Programa do Roda-Viva `https://www.youtube.com/watch?v=s00BzYazxvU` - Observação de Giovanni Rozatti\n",
    "    ________________________________________________________________________________________________"
   ]
  },
  {
   "cell_type": "markdown",
   "metadata": {},
   "source": [
    "- Método de classificação: \n",
    "foram realizados 2 níveis de classificação, no primeiro foi classificada a relêvancia da mensagem, e no segundo era avaliado o teor da mensagem\n",
    "___\n",
    "\n",
    "Nível 1 de classificação:\n",
    "\n",
    "- Relevante: Tweets que contribuiriam com o processo de classificação por estarem relacionados ou ao tema discutido ou a algo próximo e/ou que continham elementos possiveis para que fosse feita a classificação do teor de sua mensagem  \n",
    "    \n",
    "- Irrelevante: Tweets que não contribuiam com o processo de classificação e/ou não podiam ser classificados por falta de elementos que possibilitassem isso,como por exemplo: \"@atila que hrs são\" (esse tweet de fato apareeu na base de dados)  \n",
    "    <font color=#DD4040>**Observação**: mensagens curtas demais com palavras inéditas ou menos frequentes também caem nessa categoria</font>\n",
    "    \n",
    "- Opinião Política: Tweets que continham mensagens de teor político e/ou próximos a política explícitos, como por exemplo, os termos que apareceram com recorrencia considerável : \"bolsominion\" e \"comunista\"\n",
    "    \n",
    "Nesse nível as mensagens foram separadas nas três categorias acima, com o objetivo de fazer uma refiltragem dos tweets obtidos, originalmente seriam apenas duas categorias (Relevante e Irrelevante), no entanto ao decorrer do processo foi vista a necessidade de estender ainda mais esse escopo, isso possibilitará a classificação das mensagens excluindo as irrelevantes e as que possuem teor político, assim como a classificação excluindo apenas as irrelevantes nos fornecendo como resultado a resposta da pergunta:\n",
    "\"Quanto as mensagens com teor político influenciam de fato na classificação?\"\n",
    "___\n",
    "\n",
    "Nível 2 de classificação:\n",
    "\n",
    "\n",
    "- Classificações atribuidas e o que levou a atribuirmos fraases a elas:\n",
    "\n",
    "    - Show and tell: Tweets que em geral além de serem mensagens de apoiar/concordar, traziam perguntas, pesquisas, dados, materiais de referencia e fontes para embasamentos e reflexões, em geral continham teor similar ao dos exemplos a seguir: \"@oatila @maisalguem vocês viram isso?\", \"@atila, o que voce acha de...?\"  \n",
    "    \n",
    "    - Apoia/concorda: Tweets que em geral dizem: \"@oatila parabens pelo trabalho\", \"@oatila bacana essa info que você apresentou\"  \n",
    "    \n",
    "    - Discorda/Desacredita: Tweets que em geral fazem críticas ao trabalho feito, ou a uma posição que foi tomada, não necessariamente apresentando embasamento sobre o porque da crítica  \n",
    "    \n",
    "    - Mensagem de ódio:Tweets que apresentam mensagens ofensivas a esmo, (não necessáriamente ao biologo, mas ainda assim perinentes ao trabalho como será visto mais adiante nesse Notebook)*  \n",
    "    \n",
    "Nesse nível as mensagens foram separadas nas quatro categorias acima, com o objetivo de própriamente classificá-las para que pudessem passar pelo processo de slicing e classificação de palavras\n",
    "A classificação nessa parte foi feita de acordo com o seguinte método:   \n",
    "1. Se possível classificar como o classifiador Naive Bayes final do projeto faria, isso é analisar as palavras individualmente tentando prever o resultado da classificação.    \n",
    "2. Se não for possível classificar via método anterior classificar a frase como um todo de acordo com o teor que contém\n",
    "3. Se não for possível classificar de acordo com método anterior, marcar tweet como Irrelevante no nível de classificação 1**\n",
    "\n",
    "  $*$ Muitas das mensagens de ódio não estavam sendo direcionadas ao Biólogo mas a principalmente à @embaixadadachina e @mariuzakrause  \n",
    "  $**$Não hoveram casos em que o método 3 tenha sido utilizado\n",
    "\n",
    "   - @embaixadadachina:Trazendo a China para perto de você! Conta oficial da Embaixada da República Popular da China na República Federativa do Brasil. - bio no twitter da embaixada  \n",
    "        Foi alvo de várias mensagens de ódio falando principalmente:sobre sistema político-sócio-econômico chinês, e acusações de culpa pela disseminação do COVID-19, por conta de supostas alerações em estatísticas e por o vírus ser \"uma criação deles\"; A motivação dessas mensagens foi que o biólogo ter utilizado de pesquisas fornecidas pelo país\n",
    "\n",
    "   - @mariuzakrause: Direita, conservadora, bolsonariana, Jacobina, gado do Bolsonaro, Advogada nas horas vagas, petistas desapareçam! - bio no twitter de Mariuza  \n",
    "         \n",
    "        Foi alvo de várias mensagens de ódio falando principalmente:sobre sua oientação política, autenticidade de sua formação em direito; A motivação dessas mensagens foi que mariuza discordou publiamente sobre o posicionamento do biólogo em relação a quarentena, chegando a difamá-lo em relação aos resultados obtidos através de algumas pesquisas dizendo que Átila estaria \"passando vergonha\"\n",
    "\n",
    "\n",
    "___\n",
    "<font color=#EF3333> - **Observação: a estrutura do código a seguir é similar ao do usado no meu trabalho no semestre anterior (perfil no git: VonIgnia), e pode ser visto em: `https://github.com/carolinechaim/Projeto_2/blob/master/NaiveBayes teste 1.ipynb` mais especificamente nos commits \"Planilha teste rodando no Jupyter\" e \"Planilha teste rodando os classificadores NaiveBayes\".**</font>"
   ]
  },
  {
   "cell_type": "markdown",
   "metadata": {},
   "source": [
    "___\n",
    "### Montando um Classificador Naive-Bayes\n",
    "\n",
    "Considerando apenas as mensagens da planilha Treinamento, ensine  seu classificador."
   ]
  },
  {
   "cell_type": "code",
   "execution_count": 3,
   "metadata": {},
   "outputs": [
    {
     "data": {
      "text/html": [
       "<div>\n",
       "<style scoped>\n",
       "    .dataframe tbody tr th:only-of-type {\n",
       "        vertical-align: middle;\n",
       "    }\n",
       "\n",
       "    .dataframe tbody tr th {\n",
       "        vertical-align: top;\n",
       "    }\n",
       "\n",
       "    .dataframe thead th {\n",
       "        text-align: right;\n",
       "    }\n",
       "</style>\n",
       "<table border=\"1\" class=\"dataframe\">\n",
       "  <thead>\n",
       "    <tr style=\"text-align: right;\">\n",
       "      <th></th>\n",
       "      <th>Treinamento</th>\n",
       "      <th>Opinião Pública</th>\n",
       "      <th>Nível de relevância</th>\n",
       "    </tr>\n",
       "  </thead>\n",
       "  <tbody>\n",
       "    <tr>\n",
       "      <th>0</th>\n",
       "      <td>@wan__carvalho @oatila mas dependente da descr...</td>\n",
       "      <td>Show and tell</td>\n",
       "      <td>Relevante</td>\n",
       "    </tr>\n",
       "    <tr>\n",
       "      <th>1</th>\n",
       "      <td>@oatila exatamente isso!!! e o povo não entend...</td>\n",
       "      <td>Apoio/Concorda</td>\n",
       "      <td>Relevante</td>\n",
       "    </tr>\n",
       "    <tr>\n",
       "      <th>2</th>\n",
       "      <td>@mariuzakrause @maozinbr @oatila estudar mais???</td>\n",
       "      <td>Apoio/Concorda</td>\n",
       "      <td>Relevante</td>\n",
       "    </tr>\n",
       "    <tr>\n",
       "      <th>3</th>\n",
       "      <td>@mariuzakrause @oatila mariuza krause pelamor....</td>\n",
       "      <td></td>\n",
       "      <td>Irrelevante</td>\n",
       "    </tr>\n",
       "    <tr>\n",
       "      <th>4</th>\n",
       "      <td>@mariuzakrause @oatila 🐂🐂🐂🐂 vai dormir tiaaa</td>\n",
       "      <td></td>\n",
       "      <td>Irrelevante</td>\n",
       "    </tr>\n",
       "  </tbody>\n",
       "</table>\n",
       "</div>"
      ],
      "text/plain": [
       "                                         Treinamento Opinião Pública  \\\n",
       "0  @wan__carvalho @oatila mas dependente da descr...   Show and tell   \n",
       "1  @oatila exatamente isso!!! e o povo não entend...  Apoio/Concorda   \n",
       "2   @mariuzakrause @maozinbr @oatila estudar mais???  Apoio/Concorda   \n",
       "3  @mariuzakrause @oatila mariuza krause pelamor....                   \n",
       "4       @mariuzakrause @oatila 🐂🐂🐂🐂 vai dormir tiaaa                   \n",
       "\n",
       "  Nível de relevância  \n",
       "0           Relevante  \n",
       "1           Relevante  \n",
       "2           Relevante  \n",
       "3         Irrelevante  \n",
       "4         Irrelevante  "
      ]
     },
     "execution_count": 3,
     "metadata": {},
     "output_type": "execute_result"
    }
   ],
   "source": [
    "#Lê as planilhas de treinamento\n",
    "training = pd.read_excel(\"@oatila1BACKUP.xlsx\",sheet_name = 'Treinamento', index = False)\n",
    "training.head(5)#Depuração1-correto"
   ]
  },
  {
   "cell_type": "code",
   "execution_count": 4,
   "metadata": {},
   "outputs": [],
   "source": [
    "#A função elimina tweets considerados como irrlevantes para o classificador\n",
    "\n",
    "#A variável Elimina recebe uma string pertencente a categoria Nivel de Relevancia \n",
    "#(\"Relevante\", \"Irrelevante\" e \"Opinião Política\")\n",
    "\n",
    "def Elimina_por_nível_de_relevância(train,Elimina):\n",
    "    for i in range(0, len(Elimina)):\n",
    "        train.drop(train[ train['Nível de relevância'] == Elimina[i].rstrip()].index, inplace=True)\n",
    "    return train\n",
    "\n",
    "#A função calcula as frequências relativas de cada categoria\n",
    "def Calcula_frequencias_relativas(train,relative):\n",
    "#Calcula as frequências relativas de cada categoria dentre o que foi considerado Relevante\n",
    "    probs = train[\"Opinião Pública\"].value_counts(relative,sort=False)\n",
    "    return probs"
   ]
  },
  {
   "cell_type": "code",
   "execution_count": 5,
   "metadata": {
    "scrolled": false
   },
   "outputs": [
    {
     "data": {
      "text/html": [
       "<div>\n",
       "<style scoped>\n",
       "    .dataframe tbody tr th:only-of-type {\n",
       "        vertical-align: middle;\n",
       "    }\n",
       "\n",
       "    .dataframe tbody tr th {\n",
       "        vertical-align: top;\n",
       "    }\n",
       "\n",
       "    .dataframe thead th {\n",
       "        text-align: right;\n",
       "    }\n",
       "</style>\n",
       "<table border=\"1\" class=\"dataframe\">\n",
       "  <thead>\n",
       "    <tr style=\"text-align: right;\">\n",
       "      <th></th>\n",
       "      <th>Treinamento</th>\n",
       "      <th>Opinião Pública</th>\n",
       "      <th>Nível de relevância</th>\n",
       "    </tr>\n",
       "  </thead>\n",
       "  <tbody>\n",
       "    <tr>\n",
       "      <th>0</th>\n",
       "      <td>@wan__carvalho @oatila mas dependente da descr...</td>\n",
       "      <td>Show and tell</td>\n",
       "      <td>Relevante</td>\n",
       "    </tr>\n",
       "    <tr>\n",
       "      <th>1</th>\n",
       "      <td>@oatila exatamente isso!!! e o povo não entend...</td>\n",
       "      <td>Apoio/Concorda</td>\n",
       "      <td>Relevante</td>\n",
       "    </tr>\n",
       "    <tr>\n",
       "      <th>2</th>\n",
       "      <td>@mariuzakrause @maozinbr @oatila estudar mais???</td>\n",
       "      <td>Apoio/Concorda</td>\n",
       "      <td>Relevante</td>\n",
       "    </tr>\n",
       "    <tr>\n",
       "      <th>5</th>\n",
       "      <td>@embaixadachina @oatila @canalsemn0me olha iss...</td>\n",
       "      <td>Show and tell</td>\n",
       "      <td>Relevante</td>\n",
       "    </tr>\n",
       "    <tr>\n",
       "      <th>6</th>\n",
       "      <td>@peedrodornellas @marciosaales @erickrekishi @...</td>\n",
       "      <td>Show and tell</td>\n",
       "      <td>Relevante</td>\n",
       "    </tr>\n",
       "  </tbody>\n",
       "</table>\n",
       "</div>"
      ],
      "text/plain": [
       "                                         Treinamento Opinião Pública  \\\n",
       "0  @wan__carvalho @oatila mas dependente da descr...   Show and tell   \n",
       "1  @oatila exatamente isso!!! e o povo não entend...  Apoio/Concorda   \n",
       "2   @mariuzakrause @maozinbr @oatila estudar mais???  Apoio/Concorda   \n",
       "5  @embaixadachina @oatila @canalsemn0me olha iss...   Show and tell   \n",
       "6  @peedrodornellas @marciosaales @erickrekishi @...   Show and tell   \n",
       "\n",
       "  Nível de relevância  \n",
       "0           Relevante  \n",
       "1           Relevante  \n",
       "2           Relevante  \n",
       "5           Relevante  \n",
       "6           Relevante  "
      ]
     },
     "execution_count": 5,
     "metadata": {},
     "output_type": "execute_result"
    }
   ],
   "source": [
    "#lista de categorias a serem eliminadas\n",
    "Relev_Eliminate = ['Irrelevante']\n",
    "\n",
    "#chamando por outro nome para evitar o re-run de training /n\n",
    "#caso contrário training assumiria o valor do return da /n\n",
    "#função o que deixaria tudo mais complicado\n",
    "\n",
    "treino = Elimina_por_nível_de_relevância (training,Relev_Eliminate)\n",
    "Calcula_frequencias_relativas(treino,True)\n",
    "treino.head(5)#Depuração2-correto"
   ]
  },
  {
   "cell_type": "code",
   "execution_count": 6,
   "metadata": {},
   "outputs": [
    {
     "data": {
      "image/png": "[encoded data removed]",
      "text/plain": [
       "<Figure size 432x288 with 1 Axes>"
      ]
     },
     "metadata": {},
     "output_type": "display_data"
    }
   ],
   "source": [
    "#Como facilita a vizualização e como engenheiros gostam aqui temos um gráfico\n",
    "plt.pie(treino[\"Opinião Pública\"].value_counts(sort=False),\n",
    "    labels=['Mostra','Concorda','Odeia','Discorda'], \n",
    "    #03/04 Mensagem para dev: Mudar cor para refletir o significado da opinião,cores com hexadecimais altos\n",
    "    colors=[\"#44FF44\",\"#881111\",\"#221122\",\"#4444FF\"]);\n",
    "plt.legend()\n",
    "plt.show()"
   ]
  },
  {
   "cell_type": "markdown",
   "metadata": {},
   "source": [
    "Separa todas as palavras que aparecem em cada categoria no formato de uma Série"
   ]
  },
  {
   "cell_type": "code",
   "execution_count": 7,
   "metadata": {},
   "outputs": [],
   "source": [
    "def Separa_palavras_em_series(train,lista_classificações):\n",
    "    series_categories=[]\n",
    "    for i in range(0,len(lista_classificações)):\n",
    "        category = train[train[\"Opinião Pública\"] == lista_classificações[i]]\n",
    "        category = category[\"Treinamento\"].str.cat().split()\n",
    "        series_categories.append(pd.Series(category))\n",
    "#====================================================================================================== \n",
    "    #-------------------------------------------------\n",
    "      ### tentativa (falha) de deixar o código genérico e portanto aplicável a qq objeto de estudo /n\n",
    "      ### para qq número de ccategorias, quaisquer que fosse sua ordem:\n",
    "    #------------\\/código das tentativas\\/--------------    \n",
    "        #for i in range(0,len(series_categories)):\n",
    "           # setattr('Series'+str(lista_classificações[i], 'foobar', series_categories[i])\n",
    "           # eval('Series'+str(lista_classificações[i]))series_categories[i]\n",
    "    #-------------------------------------------------\n",
    "#======================================================================================================    \n",
    "    return series_categories\n",
    "lista_classificações = treino[\"Opinião Pública\"].value_counts(sort=False).index.tolist()\n",
    "series_categorias = Separa_palavras_em_series(treino,lista_classificações) #Uma lista de 4 series;\n",
    "series_categorias; #Depuração3-correto"
   ]
  },
  {
   "cell_type": "code",
   "execution_count": 8,
   "metadata": {},
   "outputs": [],
   "source": [
    "#isso só pode ser feito quando Sort=False e quando a ordem,/n\n",
    "#é conhecida caso contrário pode criar erros no classificador\n",
    "series_Apoia    = pd.Series(series_categorias[0])\n",
    "series_Discorda = pd.Series(series_categorias[1])\n",
    "series_Odeia    = pd.Series(series_categorias[2])\n",
    "series_Mostra   = pd.Series(series_categorias[3])"
   ]
  },
  {
   "cell_type": "markdown",
   "metadata": {},
   "source": [
    "Criando uma \"tabela\" com a probabilidade individual de todas as palavras aparecerem em uma dada categoria\n",
    "(\"Dado que a opinião é essa qual a probabilidade dessa palavra aparecer?\")"
   ]
  },
  {
   "cell_type": "code",
   "execution_count": 9,
   "metadata": {},
   "outputs": [],
   "source": [
    "tabela_Apoia    = series_Apoia.value_counts(True)\n",
    "tabela_Discorda = series_Discorda.value_counts(True)\n",
    "tabela_Odeia    = series_Odeia.value_counts(True)\n",
    "tabela_Mostra   = series_Mostra.value_counts(True)\n",
    "#Depuração4 correta"
   ]
  },
  {
   "cell_type": "markdown",
   "metadata": {},
   "source": [
    "\"Raptando\" a função de limpeza de pontuações e sinais do notebook da aula 7:"
   ]
  },
  {
   "cell_type": "code",
   "execution_count": 10,
   "metadata": {},
   "outputs": [],
   "source": [
    "import re \n",
    "def cleanup(text):\n",
    "    \"\"\"\n",
    "        Função de limpeza muito simples que troca alguns sinais básicos por espaços\n",
    "    \"\"\"\n",
    "    #import string\n",
    "    #punctuation = '[!-.:?;\")(]' # Note que os sinais [] são delimitadores de um conjunto.\n",
    "    punctuation =\"['(',')','\"',\"'\",',','.',':']\"\n",
    "    pattern = re.compile(punctuation)\n",
    "    text_subbed = re.sub(pattern, ' ', text)\n",
    "    return text_subbed"
   ]
  },
  {
   "cell_type": "markdown",
   "metadata": {},
   "source": [
    "Criando uma função que faz o calculo da frase pertencer a uma categoria utilizando a fórmula de bayes"
   ]
  },
  {
   "cell_type": "code",
   "execution_count": 12,
   "metadata": {},
   "outputs": [],
   "source": [
    "def classificador_de_palavras_multinomial_naive_bayes(tweet):  \n",
    "    \n",
    "    lista_palavras = cleanup(tweet).split()\n",
    "    for palavra in lista_palavras:\n",
    "        prob_Apoia = 1\n",
    "        prob_Discorda = 1\n",
    "        prob_Odeia = 1\n",
    "        prob_Mostra = 1\n",
    "    \n",
    "    #===========================================================\n",
    "    #Palavras novas não alteram a classificação atual, no entanto um tweet\n",
    "    #composto exclusivamente por palavras novas \"quebraria\" a classificação\n",
    "        #---------------------------------------------------\n",
    "        if palavra in tabela_Apoia.index:\n",
    "            prob_palavra_Apoia = tabela_Apoia[palavra]\n",
    "        else:\n",
    "            prob_palavra_Apoia = 1\n",
    "        #---------------------------------------------------    \n",
    "        if palavra in tabela_Discorda.index:\n",
    "            prob_palavra_Discorda = tabela_Discorda[palavra]\n",
    "        else:\n",
    "            prob_palavra_Discorda = 1\n",
    "        #---------------------------------------------------\n",
    "        if palavra in tabela_Odeia.index:\n",
    "            prob_palavra_Odeia = tabela_Odeia[palavra]\n",
    "        else:\n",
    "            prob_palavra_Odeia = 1\n",
    "        #---------------------------------------------------\n",
    "        if palavra in tabela_Mostra.index:\n",
    "            prob_palavra_Mostra = tabela_Mostra[palavra]\n",
    "        else:\n",
    "            prob_palavra_Mostra = 1\n",
    "        #---------------------------------------------------\n",
    "    #===========================================================\n",
    "\n",
    "        prob_Apoia *= prob_palavra_Apoia\n",
    "        prob_Discorda *= prob_palavra_Discorda\n",
    "        prob_Odeia *= prob_palavra_Odeia\n",
    "        prob_Mostra *= prob_palavra_Mostra\n",
    "        \n",
    "    #=========================================================== \n",
    "    #Se não houver alteração no valor inicial (1) é porque não /n\n",
    "    # foram detectadas nenhuma  pertencente áquela categoria\n",
    "    #Reseta a probabilidade da categoria.\n",
    "    # (transformar em função??????????????)\n",
    "\n",
    "        #---------------------------------------------------\n",
    "        if prob_Apoia == 1:\n",
    "            prob_Apoia =0\n",
    "        #---------------------------------------------------\n",
    "        if prob_Discorda == 1:\n",
    "            prob_Discorda =0\n",
    "        #---------------------------------------------------\n",
    "        if prob_Odeia == 1:\n",
    "            prob_Odeia =0\n",
    "        #---------------------------------------------------\n",
    "        if prob_Mostra == 1:\n",
    "            prob_Mostra =0\n",
    "        #---------------------------------------------------    \n",
    "    \n",
    "            if (prob_Apoia > prob_Discorda) and (prob_Apoia > prob_Mostra) and (prob_Apoia > prob_Odeia):\n",
    "                return \"Apoio/Concorda\"\n",
    "            elif (prob_Mostra > prob_Apoia) and (prob_Mostra > prob_Discorda) and (prob_Mostra > prob_Odeia):\n",
    "                return \"Show and tell\"\n",
    "            elif (prob_Discorda > prob_Apoia) and (prob_Discorda > prob_Mostra) and (prob_Discorda > prob_Odeia):\n",
    "                return \"Discorda/Desacredita\"\n",
    "            elif (prob_Odeia > prob_Apoia) and (prob_Odeia > prob_Discorda) and (prob_Odeia > prob_Mostra):\n",
    "                return \"Mensagem de ódio\""
   ]
  },
  {
   "cell_type": "markdown",
   "metadata": {},
   "source": [
    "___\n",
    "### Verificando a performance do Classificador\n",
    "\n",
    "Agora você deve testar o seu classificador com a base de Testes."
   ]
  },
  {
   "cell_type": "markdown",
   "metadata": {},
   "source": [
    "leitura da planilha para testes com o classificador"
   ]
  },
  {
   "cell_type": "code",
   "execution_count": 13,
   "metadata": {},
   "outputs": [],
   "source": [
    "test = pd.read_excel(\"@oatila1.xlsx\",sheet_name = 'Teste', index = False).set_index(\"Teste\")\n",
    "target = test[\"Target\"]\n",
    "test = test.drop(columns=[\"Target\"])\n",
    "lista_tweets = list(test.index)\n",
    "\n",
    "#for i in range(0,len(target)):\n",
    "#    print (target[i]);\n"
   ]
  },
  {
   "cell_type": "code",
   "execution_count": 14,
   "metadata": {},
   "outputs": [
    {
     "data": {
      "text/html": [
       "<div>\n",
       "<style scoped>\n",
       "    .dataframe tbody tr th:only-of-type {\n",
       "        vertical-align: middle;\n",
       "    }\n",
       "\n",
       "    .dataframe tbody tr th {\n",
       "        vertical-align: top;\n",
       "    }\n",
       "\n",
       "    .dataframe thead th {\n",
       "        text-align: right;\n",
       "    }\n",
       "</style>\n",
       "<table border=\"1\" class=\"dataframe\">\n",
       "  <thead>\n",
       "    <tr style=\"text-align: right;\">\n",
       "      <th></th>\n",
       "      <th>Classificação</th>\n",
       "    </tr>\n",
       "    <tr>\n",
       "      <th>Teste</th>\n",
       "      <th></th>\n",
       "    </tr>\n",
       "  </thead>\n",
       "  <tbody>\n",
       "    <tr>\n",
       "      <th>@mariuzakrause @oatila toma essa jantada ai, mula, nao sabe fazer uma pesquisa antes de falar bosta na internet. vai cuidar dos seus netos. infeliz</th>\n",
       "      <td>Apoio/Concorda</td>\n",
       "    </tr>\n",
       "    <tr>\n",
       "      <th>@luis_wback @daciolocable @oatila usar uma única fonte como referência é a antítese da ciência. \\npassar bem.</th>\n",
       "      <td>Discorda/Desacredita</td>\n",
       "    </tr>\n",
       "    <tr>\n",
       "      <th>@embaixadachina @oatila foda-se a china e esse biólogo de fundo de quintal!</th>\n",
       "      <td>Discorda/Desacredita</td>\n",
       "    </tr>\n",
       "    <tr>\n",
       "      <th>@oatila isso ainda é uma dúvida né, ainda não é 100% certo que vc fiquei imunizado depois da primeira infecção.\\n\\ne a certeza disso pode mudar tudo....</th>\n",
       "      <td>Mensagem de ódio</td>\n",
       "    </tr>\n",
       "    <tr>\n",
       "      <th>@oatila é possível contrair gripe e covid19 simultaneamente?</th>\n",
       "      <td>Mensagem de ódio</td>\n",
       "    </tr>\n",
       "    <tr>\n",
       "      <th>@oatila mania de perguntar pra cientista \"você acredita em tal coisa?\". não, não é fé é fato. sem dados, sem inferências.</th>\n",
       "      <td>Apoio/Concorda</td>\n",
       "    </tr>\n",
       "    <tr>\n",
       "      <th>@mariuzakrause @oatila eita que a mocinha da direitinha conservadorinha se sentiu ofendida...\\neu tb me sentiria ofendida se tivesse o cérebro do tamanho de uma ervilha igual ao seu. deve ser muito difícil bater de frente com um cientista e ser humilhada com fatos.</th>\n",
       "      <td>Discorda/Desacredita</td>\n",
       "    </tr>\n",
       "    <tr>\n",
       "      <th>@mariuzakrause @oatila mariuza, que feio. apaga essa vergonha pois anthony fauci, infectologista que integra a equipe do trump afirmou isso mesmo. \\n\\nque mico vc pagou, hein, dona?</th>\n",
       "      <td>Apoio/Concorda</td>\n",
       "    </tr>\n",
       "    <tr>\n",
       "      <th>@oatila cara, eu tô falando isso desde o início do mês. muito igual</th>\n",
       "      <td>Apoio/Concorda</td>\n",
       "    </tr>\n",
       "    <tr>\n",
       "      <th>@oatila @papacha58986333  diz aí pro trump que é exagero ...</th>\n",
       "      <td>Mensagem de ódio</td>\n",
       "    </tr>\n",
       "    <tr>\n",
       "      <th>@mariuzakrause @oatila eh bot clã, nao encana</th>\n",
       "      <td>Discorda/Desacredita</td>\n",
       "    </tr>\n",
       "    <tr>\n",
       "      <th>@de_theo @brunobaguiar @tombaboo @oatila o fato é q não há consenso sobre o tema\\nmas está claro que o interesse não é propor o diálogo sobre os diferentes pontos se vista\\nmas sim causar o alarde e pânico\\ntragédia vende mais manchete</th>\n",
       "      <td>Apoio/Concorda</td>\n",
       "    </tr>\n",
       "    <tr>\n",
       "      <th>@oatila lavou as mãos antes de jantar atila?</th>\n",
       "      <td>Apoio/Concorda</td>\n",
       "    </tr>\n",
       "    <tr>\n",
       "      <th>@oatila @mariuzakrause o engraçado é que esse pessoal acha que essas previsões são os spoilers das mortes que vão acontecer. essas previsões é justamente  o contrário, é pra eles saberem o que aguarda e trabalharem pra reverter.</th>\n",
       "      <td>Discorda/Desacredita</td>\n",
       "    </tr>\n",
       "    <tr>\n",
       "      <th>@ricardomvet @lpcmauricio @oatila já vivi e trabalhei no japão, meu pai e irmão vivem à 20 anos lá:\\n1- japão fechou todas escolas, disney e demais eventos com mais de 100 pessoas por 3 meses.\\n2- no japão a maioria dos idosos moram sozinho. brasil tem favelas, japão não tem tradução para isso.</th>\n",
       "      <td>Apoio/Concorda</td>\n",
       "    </tr>\n",
       "    <tr>\n",
       "      <th>@embaixadachina @oatila ele que vá pra china ser exterminado!!!!</th>\n",
       "      <td>None</td>\n",
       "    </tr>\n",
       "    <tr>\n",
       "      <th>@oatila eu li que quem testou negativo e depois positivo mesmo assim já não infecta outras pessoas (?)</th>\n",
       "      <td>Mensagem de ódio</td>\n",
       "    </tr>\n",
       "    <tr>\n",
       "      <th>@ricardomvet @oatila vá se foder, canalha!</th>\n",
       "      <td>Apoio/Concorda</td>\n",
       "    </tr>\n",
       "    <tr>\n",
       "      <th>@mariuzakrause @oatila perdão senhora,mas a senhora não tem nada de conservadora.</th>\n",
       "      <td>None</td>\n",
       "    </tr>\n",
       "    <tr>\n",
       "      <th>@mariuzakrause @oatila senhora, volte para o facebook!</th>\n",
       "      <td>None</td>\n",
       "    </tr>\n",
       "    <tr>\n",
       "      <th>@oatila só discordo do título de pior presidente! 😎</th>\n",
       "      <td>None</td>\n",
       "    </tr>\n",
       "    <tr>\n",
       "      <th>@anhangatinga @marciosaales @erickrekishi @elivieirajr @oatila ele se retratou pelo menos?</th>\n",
       "      <td>Mensagem de ódio</td>\n",
       "    </tr>\n",
       "    <tr>\n",
       "      <th>@mariuzakrause @oatila quem não propaga fake news é a mariuza conservadora e bolsolover</th>\n",
       "      <td>None</td>\n",
       "    </tr>\n",
       "    <tr>\n",
       "      <th>@mariuzakrause @oatila moro nos us e digo que é verdade. estes números foram apresentados hj na coletiva de donald trump.</th>\n",
       "      <td>None</td>\n",
       "    </tr>\n",
       "    <tr>\n",
       "      <th>@dramaqueenjuju @oatila https://t.co/ai5g7ocwxe\\nwell, a forbes é algo bem confiável. eu n achei o estudo em si, pq vi numa postagem de facebook</th>\n",
       "      <td>Discorda/Desacredita</td>\n",
       "    </tr>\n",
       "    <tr>\n",
       "      <th>@embaixadachina @oatila #viruschines 😠😤👿\\nvocês não vão mandar no brasil! \\nquem manda aqui é deus, repreendo este governo louco de vocês em nome de jesus! \\n#nãocomprenadadachina</th>\n",
       "      <td>Apoio/Concorda</td>\n",
       "    </tr>\n",
       "    <tr>\n",
       "      <th>@oatila a soberba do cara perguntar pro especialista: “você tá sabendo fazer o seu trabalho? sei não, pq eu não to entendendo nada”</th>\n",
       "      <td>Mensagem de ódio</td>\n",
       "    </tr>\n",
       "    <tr>\n",
       "      <th>@miaguta @embaixadachina @oatila quanta merda dita kkkkk</th>\n",
       "      <td>None</td>\n",
       "    </tr>\n",
       "    <tr>\n",
       "      <th>@bozi_fabio @vallinotolucas @oatila mas temos que dar uma chance, vai que ele faz um due diligence sobre o covid, tenha um brainstorm e apresente um kick off de combate contra o vírus 🦠😁</th>\n",
       "      <td>Discorda/Desacredita</td>\n",
       "    </tr>\n",
       "    <tr>\n",
       "      <th>@andersonlz1980 @willshitpost2 @oatila ele ta apontando, esse perfil é meme</th>\n",
       "      <td>None</td>\n",
       "    </tr>\n",
       "    <tr>\n",
       "      <th>...</th>\n",
       "      <td>...</td>\n",
       "    </tr>\n",
       "    <tr>\n",
       "      <th>@oatila vc acha que no intuito de fazer um vírus pra combater o cancer de pulmão eles fizeram essa cagada aí?</th>\n",
       "      <td>Discorda/Desacredita</td>\n",
       "    </tr>\n",
       "    <tr>\n",
       "      <th>@mariuzakrause @oatila as pessoas estão ficando enojadas dos haters e bots dos bolsonaros. ninguém tá aguentando mais. as pesquisas, os panelaços e os monitoramentos das redes sociais, mostram isso de forma enfática.</th>\n",
       "      <td>Discorda/Desacredita</td>\n",
       "    </tr>\n",
       "    <tr>\n",
       "      <th>@oatila e o que falar para esta gente que dix que a china fez o vírus e o espalhou propositadamente mundo afora?! ayuda https://t.co/53tqoj1ia3</th>\n",
       "      <td>Apoio/Concorda</td>\n",
       "    </tr>\n",
       "    <tr>\n",
       "      <th>@oatila você está condenando um presidente eleito por uma “projeção” que ele ainda não teve tempo de reagir? você mesmo fez um vídeo sobre um estudo que estava equivocado. baseado em que você diz que o atual presidente dos eua é ineficiente? essa projeção também pode estar equivocada.</th>\n",
       "      <td>Mensagem de ódio</td>\n",
       "    </tr>\n",
       "    <tr>\n",
       "      <th>@oatila @mariuzakrause eu fico realmente triste com o ponto em que chegamos. as pessoas não tem um pingo de respeito pelas outras num nível jamais visto antes.\\nela vai lá desperdiçar sua energia só pra atacar gratuitamente a pessoa que tá tentando fazer alguma coisa com seriedade.</th>\n",
       "      <td>Apoio/Concorda</td>\n",
       "    </tr>\n",
       "    <tr>\n",
       "      <th>@mariuzakrause @oatila poxa,não faz assim com o gado,atila .😂😂😂😂😂!!!</th>\n",
       "      <td>Discorda/Desacredita</td>\n",
       "    </tr>\n",
       "    <tr>\n",
       "      <th>@gabrielbfranca @causalitybreake @elivieirajr @fleija4 @oatila china escondeu até o casos das dezenas amigo. acha realmente que eles saberiam a proporção que se tornaria? \\nbrasil por exemplo. tivemos 2 casos de bactérias novas e um o sabiavírus infectando uma pessoa. tu achas que eles isolaram todos que tiveram contato? não.</th>\n",
       "      <td>Discorda/Desacredita</td>\n",
       "    </tr>\n",
       "    <tr>\n",
       "      <th>@oatila governo chinês não é burro.\\neles podem ter muito controle sobre o fluxo de informações dentro do país, mas se tentassem maquiar a letalidade do vírus para outros países, assim que o vírus chegasse em outro país a farsa cairia por terra.</th>\n",
       "      <td>Apoio/Concorda</td>\n",
       "    </tr>\n",
       "    <tr>\n",
       "      <th>@patricia_paulla @marcos0451 @oatila robô</th>\n",
       "      <td>None</td>\n",
       "    </tr>\n",
       "    <tr>\n",
       "      <th>@ryanstruyk @oatila @xadrezverbal parece que o trump viu os números de mortes se nada fosse feito</th>\n",
       "      <td>Apoio/Concorda</td>\n",
       "    </tr>\n",
       "    <tr>\n",
       "      <th>@gerinodd @oatila https://t.co/ud6ksevkvr não sou eu que tou falando.</th>\n",
       "      <td>None</td>\n",
       "    </tr>\n",
       "    <tr>\n",
       "      <th>@oatila e aí @caiocgomes. o @oatila falou que física é muito fácil, comparado com biologia. vai deixar? kkkkkkk</th>\n",
       "      <td>Apoio/Concorda</td>\n",
       "    </tr>\n",
       "    <tr>\n",
       "      <th>@oatila outro ponto importante é saber a efetividade dos testes. essa nota da sbac é bem clara. \\n\\nhttps://t.co/3tizbgltvi</th>\n",
       "      <td>Discorda/Desacredita</td>\n",
       "    </tr>\n",
       "    <tr>\n",
       "      <th>@oatila @nilmoretto fudeu, já era, milhões irão morrer, infelizmente</th>\n",
       "      <td>Mensagem de ódio</td>\n",
       "    </tr>\n",
       "    <tr>\n",
       "      <th>@gerinodd @oatila corriere della sera é o maior e mais tradicional jornal da itália.</th>\n",
       "      <td>Discorda/Desacredita</td>\n",
       "    </tr>\n",
       "    <tr>\n",
       "      <th>@mariuzakrause @oatila xiu tia, vai dormir</th>\n",
       "      <td>None</td>\n",
       "    </tr>\n",
       "    <tr>\n",
       "      <th>@marciomarra77 @oatila @chevroletbr @chevrolet como já disse não quero trocar de carro\\n\\no átila não disse q teriamos 1mi de mortos, um estudo disse, se absolutamente nada fosse feito, e a vida continua-se normal, com as pessoas achando q é só uma gripizinha e nada mais, ai poderia ser q isso acontece se, aprenda a interpretar</th>\n",
       "      <td>Mensagem de ódio</td>\n",
       "    </tr>\n",
       "    <tr>\n",
       "      <th>@guimrts @oatila e ele disse algo errado? trump é populista, vive de causar e chamar a atenção, assim como bolsonaro com suas declarações toscas e cortinas de fumaça. quando o país tá na sua situação normal o gado vai aplaudir e nada vai mudar, mas estamos no meio de uma pandemia.</th>\n",
       "      <td>Discorda/Desacredita</td>\n",
       "    </tr>\n",
       "    <tr>\n",
       "      <th>@mariuzakrause @oatila engraçado como uma \"fake news\" faz o trump prorrogar a quarentena até o final de abril, né?!?! aproveita esse período de isolamento e vai estudar um pouco antes de defecar pelos dedos!!!  https://t.co/i6ftsoi7tz</th>\n",
       "      <td>Mensagem de ódio</td>\n",
       "    </tr>\n",
       "    <tr>\n",
       "      <th>@mariuzakrause @oatila biologozinho quem é a senhora na fila do pão dona creuza? volte pro perfil de bernado kurster e passar bem.</th>\n",
       "      <td>Discorda/Desacredita</td>\n",
       "    </tr>\n",
       "    <tr>\n",
       "      <th>@emilio_vaz05 @renatapfgil @oatila @xadrezverbal vc tem que restringir a migração de pessoas. é muito arriscado não fechar fronteiras pq casos assintomáticos podem levar o vírus para outros lugares, recomeçando o ciclo de transmissão.</th>\n",
       "      <td>Mensagem de ódio</td>\n",
       "    </tr>\n",
       "    <tr>\n",
       "      <th>@embaixadachina @oatila parabéns, mas não exime da culpa. cadê as desculpas ao mundo do presidente chinês?</th>\n",
       "      <td>Mensagem de ódio</td>\n",
       "    </tr>\n",
       "    <tr>\n",
       "      <th>@oatila @ricardomvet pisa neles @oatila</th>\n",
       "      <td>Apoio/Concorda</td>\n",
       "    </tr>\n",
       "    <tr>\n",
       "      <th>@nglfrocha @rodrigogomes670 @oatila em wuhan? pra mim isso era na china inteirab</th>\n",
       "      <td>Discorda/Desacredita</td>\n",
       "    </tr>\n",
       "    <tr>\n",
       "      <th>@embaixadachina @oatila conteve tanto que foi pro mundo todo</th>\n",
       "      <td>Mensagem de ódio</td>\n",
       "    </tr>\n",
       "    <tr>\n",
       "      <th>@embaixadachina @oatila vírus chines</th>\n",
       "      <td>Mensagem de ódio</td>\n",
       "    </tr>\n",
       "    <tr>\n",
       "      <th>@embaixadachina @oatila devemos parar de vender qq que seja nossa mercadoria, devemos fortalecer o nosso mercado interno e promover o desabastecimento dos chineses, eles causaram o vírus e nada pagaram por isso, milhares de mortes não podem ser atoa.</th>\n",
       "      <td>Apoio/Concorda</td>\n",
       "    </tr>\n",
       "    <tr>\n",
       "      <th>@mariuzakrause @oatila tenha mais respeito, tia do pavê</th>\n",
       "      <td>Discorda/Desacredita</td>\n",
       "    </tr>\n",
       "    <tr>\n",
       "      <th>@oatila isso ja nao estava acontecendo? lembro de ter lido sobre isso ha umas 2 semanas, pelo menos. pessoas curadas que ainda testavam positivo.</th>\n",
       "      <td>Apoio/Concorda</td>\n",
       "    </tr>\n",
       "    <tr>\n",
       "      <th>@oatila por favor, continue o trabalho que está fazendo, @oatila !\\n\\nobrigado.</th>\n",
       "      <td>Discorda/Desacredita</td>\n",
       "    </tr>\n",
       "  </tbody>\n",
       "</table>\n",
       "<p>399 rows × 1 columns</p>\n",
       "</div>"
      ],
      "text/plain": [
       "                                                           Classificação\n",
       "Teste                                                                   \n",
       "@mariuzakrause @oatila toma essa jantada ai, mu...        Apoio/Concorda\n",
       "@luis_wback @daciolocable @oatila usar uma únic...  Discorda/Desacredita\n",
       "@embaixadachina @oatila foda-se a china e esse ...  Discorda/Desacredita\n",
       "@oatila isso ainda é uma dúvida né, ainda não é...      Mensagem de ódio\n",
       "@oatila é possível contrair gripe e covid19 sim...      Mensagem de ódio\n",
       "@oatila mania de perguntar pra cientista \"você ...        Apoio/Concorda\n",
       "@mariuzakrause @oatila eita que a mocinha da di...  Discorda/Desacredita\n",
       "@mariuzakrause @oatila mariuza, que feio. apaga...        Apoio/Concorda\n",
       "@oatila cara, eu tô falando isso desde o início...        Apoio/Concorda\n",
       "@oatila @papacha58986333  diz aí pro trump que ...      Mensagem de ódio\n",
       "@mariuzakrause @oatila eh bot clã, nao encana       Discorda/Desacredita\n",
       "@de_theo @brunobaguiar @tombaboo @oatila o fato...        Apoio/Concorda\n",
       "@oatila lavou as mãos antes de jantar atila?              Apoio/Concorda\n",
       "@oatila @mariuzakrause o engraçado é que esse p...  Discorda/Desacredita\n",
       "@ricardomvet @lpcmauricio @oatila já vivi e tra...        Apoio/Concorda\n",
       "@embaixadachina @oatila ele que vá pra china se...                  None\n",
       "@oatila eu li que quem testou negativo e depois...      Mensagem de ódio\n",
       "@ricardomvet @oatila vá se foder, canalha!                Apoio/Concorda\n",
       "@mariuzakrause @oatila perdão senhora,mas a sen...                  None\n",
       "@mariuzakrause @oatila senhora, volte para o fa...                  None\n",
       "@oatila só discordo do título de pior president...                  None\n",
       "@anhangatinga @marciosaales @erickrekishi @eliv...      Mensagem de ódio\n",
       "@mariuzakrause @oatila quem não propaga fake ne...                  None\n",
       "@mariuzakrause @oatila moro nos us e digo que é...                  None\n",
       "@dramaqueenjuju @oatila https://t.co/ai5g7ocwxe...  Discorda/Desacredita\n",
       "@embaixadachina @oatila #viruschines 😠😤👿\\nvocês...        Apoio/Concorda\n",
       "@oatila a soberba do cara perguntar pro especia...      Mensagem de ódio\n",
       "@miaguta @embaixadachina @oatila quanta merda d...                  None\n",
       "@bozi_fabio @vallinotolucas @oatila mas temos q...  Discorda/Desacredita\n",
       "@andersonlz1980 @willshitpost2 @oatila ele ta a...                  None\n",
       "...                                                                  ...\n",
       "@oatila vc acha que no intuito de fazer um víru...  Discorda/Desacredita\n",
       "@mariuzakrause @oatila as pessoas estão ficando...  Discorda/Desacredita\n",
       "@oatila e o que falar para esta gente que dix q...        Apoio/Concorda\n",
       "@oatila você está condenando um presidente elei...      Mensagem de ódio\n",
       "@oatila @mariuzakrause eu fico realmente triste...        Apoio/Concorda\n",
       "@mariuzakrause @oatila poxa,não faz assim com o...  Discorda/Desacredita\n",
       "@gabrielbfranca @causalitybreake @elivieirajr @...  Discorda/Desacredita\n",
       "@oatila governo chinês não é burro.\\neles podem...        Apoio/Concorda\n",
       "@patricia_paulla @marcos0451 @oatila robô                           None\n",
       "@ryanstruyk @oatila @xadrezverbal parece que o ...        Apoio/Concorda\n",
       "@gerinodd @oatila https://t.co/ud6ksevkvr não s...                  None\n",
       "@oatila e aí @caiocgomes. o @oatila falou que f...        Apoio/Concorda\n",
       "@oatila outro ponto importante é saber a efetiv...  Discorda/Desacredita\n",
       "@oatila @nilmoretto fudeu, já era, milhões irão...      Mensagem de ódio\n",
       "@gerinodd @oatila corriere della sera é o maior...  Discorda/Desacredita\n",
       "@mariuzakrause @oatila xiu tia, vai dormir                          None\n",
       "@marciomarra77 @oatila @chevroletbr @chevrolet ...      Mensagem de ódio\n",
       "@guimrts @oatila e ele disse algo errado? trump...  Discorda/Desacredita\n",
       "@mariuzakrause @oatila engraçado como uma \"fake...      Mensagem de ódio\n",
       "@mariuzakrause @oatila biologozinho quem é a se...  Discorda/Desacredita\n",
       "@emilio_vaz05 @renatapfgil @oatila @xadrezverba...      Mensagem de ódio\n",
       "@embaixadachina @oatila parabéns, mas não exime...      Mensagem de ódio\n",
       "@oatila @ricardomvet pisa neles @oatila                   Apoio/Concorda\n",
       "@nglfrocha @rodrigogomes670 @oatila em wuhan? p...  Discorda/Desacredita\n",
       "@embaixadachina @oatila conteve tanto que foi p...      Mensagem de ódio\n",
       "@embaixadachina @oatila vírus chines                    Mensagem de ódio\n",
       "@embaixadachina @oatila devemos parar de vender...        Apoio/Concorda\n",
       "@mariuzakrause @oatila tenha mais respeito, tia...  Discorda/Desacredita\n",
       "@oatila isso ja nao estava acontecendo? lembro ...        Apoio/Concorda\n",
       "@oatila por favor, continue o trabalho que está...  Discorda/Desacredita\n",
       "\n",
       "[399 rows x 1 columns]"
      ]
     },
     "execution_count": 14,
     "metadata": {},
     "output_type": "execute_result"
    }
   ],
   "source": [
    "for tweet in lista_tweets:\n",
    "    test.loc[tweet,\"Classificação\"] = classificador_de_palavras_multinomial_naive_bayes(tweet)\n",
    "test\n",
    "\n",
    "#os problemas relatados no notebbok Projeto1_Classificador_layout_Relatório_de_erros foram eliminados /n\n",
    "#nesse notebook no entanto tweets muito curtos (baixo número de palavras), com strings inéditas/n\n",
    "#(geralmente variações de kkk com mais ou menos caracteres) e links não puderam ser classificados/n\n",
    "#felizmente eles são uma minoria e portanto a eliminação desses não acarreta em significativos impactos/n\n",
    "#para o classsificador"
   ]
  },
  {
   "cell_type": "code",
   "execution_count": 15,
   "metadata": {},
   "outputs": [],
   "source": [
    "acertos=0\n",
    "for i in range(len(test)):\n",
    "        if test.Classificação[i]==target[i]:\n",
    "            acertos+=1"
   ]
  },
  {
   "cell_type": "code",
   "execution_count": 16,
   "metadata": {},
   "outputs": [
    {
     "data": {
      "text/plain": [
       "Discorda/Desacredita    118\n",
       "Mensagem de ódio        116\n",
       "Apoio/Concorda          103\n",
       "Name: Classificação, dtype: int64"
      ]
     },
     "execution_count": 16,
     "metadata": {},
     "output_type": "execute_result"
    }
   ],
   "source": [
    "test.Classificação.value_counts()"
   ]
  },
  {
   "cell_type": "code",
   "execution_count": 17,
   "metadata": {},
   "outputs": [
    {
     "data": {
      "text/plain": [
       "Apoio/Concorda          16\n",
       "Discorda/Desacredita    15\n",
       "Show and tell           14\n",
       "Mensagem de ódio        12\n",
       "Name: Target, dtype: int64"
      ]
     },
     "execution_count": 17,
     "metadata": {},
     "output_type": "execute_result"
    }
   ],
   "source": [
    "target.value_counts()"
   ]
  },
  {
   "cell_type": "code",
   "execution_count": 18,
   "metadata": {},
   "outputs": [
    {
     "data": {
      "image/png": "[encoded data removed]",
      "text/plain": [
       "<Figure size 1440x1440 with 1 Axes>"
      ]
     },
     "metadata": {},
     "output_type": "display_data"
    },
    {
     "data": {
      "image/png": "[encoded data removed]",
      "text/plain": [
       "<Figure size 1440x1440 with 1 Axes>"
      ]
     },
     "metadata": {},
     "output_type": "display_data"
    },
    {
     "data": {
      "image/png": "[encoded data removed]",
      "text/plain": [
       "<Figure size 1440x1440 with 1 Axes>"
      ]
     },
     "metadata": {},
     "output_type": "display_data"
    }
   ],
   "source": [
    "plt.figure(figsize=(20,20))\n",
    "plt.subplot(3, 1, 1)\n",
    "plt.pie(test.Classificação.value_counts(sort=False),\n",
    "    labels=['Concorda','Discorda','Odeia'], \n",
    "    colors=[\"#44FF44\",\"#881111\",\"221122\"]);\n",
    "plt.legend()\n",
    "#---------------------------\n",
    "\n",
    "plt.figure(figsize=(20,20))\n",
    "plt.subplot(3, 1, 2)\n",
    "plt.pie(target.value_counts(sort=False),\n",
    "    labels=['Concorda','Discorda','Mostra','Odeia'], \n",
    "    colors=[\"#44FF44\",\"#881111\",\"#FF4444\",\"221122\"]);\n",
    "plt.legend()\n",
    "#---------------------------\n",
    "\n",
    "plt.figure(figsize=(20,20))\n",
    "plt.subplot(3, 1, 3)\n",
    "plt.pie([acertos,len(test)-acertos],\n",
    "    explode=[1,-.95],\n",
    "    labels=['Acertos','Erros'], \n",
    "    colors=[\"#44FF44\",\"#881111\"]);\n",
    "plt.legend()\n",
    "\n",
    "plt.show()"
   ]
  },
  {
   "cell_type": "markdown",
   "metadata": {},
   "source": [
    "___\n",
    "### Concluindo"
   ]
  },
  {
   "cell_type": "markdown",
   "metadata": {},
   "source": [
    "Versão 1  (o objeto de clasificação ainda era Cinemark, mas como os erros daquela versão poderiam se repetir nessa e serviram para reflexões além de elaborações de uma maneira de \"consertá-los\".)\n",
    "22/03- o código roda mas claramente a classificação está com imperfeições isso pode se dar por:\n",
    " - erros de contabilização na fórmula do NaiveBayes\n",
    " - erros na clasificação do excel\n",
    " - certas palavras possuirem um viés deterministico mais forte para um dos lados (no caso a Opinião Positiva)"
   ]
  },
  {
   "cell_type": "code",
   "execution_count": null,
   "metadata": {},
   "outputs": [],
   "source": []
  },
  {
   "cell_type": "markdown",
   "metadata": {},
   "source": [
    "___\n",
    "## Aperfeiçoamento:\n",
    "\n",
    "Os trabalhos vão evoluir em conceito dependendo da quantidade de itens avançados:\n",
    "\n",
    "* <font color=#0FCF22> Limpar: \\n, :, \", ', (, ), etc SEM remover emojis  </font>\n",
    "* <font color=#FF0101> Corrigir separação de espaços entre palavras e emojis ou entre emojis e emojis </font>\n",
    "* <font color=#0F22CF> Propor outras limpezas e transformações que não afetem a qualidade da informação ou classificação </font>\n",
    "* <font color=#0FCF22> Criar categorias intermediárias de relevância baseadas na probabilidade: ex.: muito relevante, relevante, neutro, irrelevante, muito irrelevante (3 categorias: C, mais categorias conta para B) </font>\n",
    "* <font color=#0F22CF> Explicar por que não posso usar o próprio classificador para gerar mais amostras de treinamento </font>\n",
    "* <font color=#0F22CF> Propor diferentes cenários para Naïve Bayes fora do contexto do projeto </font>\n",
    "* <font color=#0FCF22> Sugerir e explicar melhorias reais com indicações concretas de como implementar (indicar como fazer e indicar material de pesquisa) </font>\n",
    "* <font color=#FF0101> Montar um dashboard que periodicamente realiza análise de sentimento e visualiza estes dados </font>"
   ]
  },
  {
   "cell_type": "markdown",
   "metadata": {},
   "source": [
    "___\n",
    "## Referências"
   ]
  },
  {
   "cell_type": "markdown",
   "metadata": {},
   "source": [
    "[Naive Bayes and Text Classification](https://arxiv.org/pdf/1410.5329.pdf)  **Mais completo**\n",
    "\n",
    "[A practical explanation of a Naive Bayes Classifier](https://monkeylearn.com/blog/practical-explanation-naive-bayes-classifier/) **Mais simples**"
   ]
  },
  {
   "cell_type": "markdown",
   "metadata": {},
   "source": [
    "Esse notebbok foi por um breve periodo de tempo chamado de \"Projeto1_Classificador_layout-Depuração\", após a depuração ser realizada ele se tornou o \"Projeto1_Classificador_layout_final\""
   ]
  },
  {
   "cell_type": "code",
   "execution_count": null,
   "metadata": {},
   "outputs": [],
   "source": []
  }
 ],
 "metadata": {
  "kernelspec": {
   "display_name": "Python 3",
   "language": "python",
   "name": "python3"
  },
  "language_info": {
   "codemirror_mode": {
    "name": "ipython",
    "version": 3
   },
   "file_extension": ".py",
   "mimetype": "text/x-python",
   "name": "python",
   "nbconvert_exporter": "python",
   "pygments_lexer": "ipython3",
   "version": "3.7.1"
  }
 },
 "nbformat": 4,
 "nbformat_minor": 4
}
