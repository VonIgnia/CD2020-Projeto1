{
 "cells": [
  {
   "cell_type": "markdown",
   "metadata": {},
   "source": [
    "# Projeto 1 - Ciência dos Dados"
   ]
  },
  {
   "cell_type": "markdown",
   "metadata": {},
   "source": [
    "Nome: Giovanni Rozatti\n",
    "\n",
    "Nome: Gabriel Parfan Guimarães"
   ]
  },
  {
   "cell_type": "markdown",
   "metadata": {},
   "source": [
    "Atenção: Serão permitidos grupos de três pessoas, mas com uma rubrica mais exigente. Grupos deste tamanho precisarão fazer um questionário de avaliação de trabalho em equipe"
   ]
  },
  {
   "cell_type": "markdown",
   "metadata": {},
   "source": [
    "___\n",
    "Carregando algumas bibliotecas:"
   ]
  },
  {
   "cell_type": "code",
   "execution_count": 1,
   "metadata": {},
   "outputs": [],
   "source": [
    "%matplotlib inline\n",
    "import pandas as pd\n",
    "import matplotlib.pyplot as plt\n",
    "import numpy as np\n",
    "import os"
   ]
  },
  {
   "cell_type": "code",
   "execution_count": 2,
   "metadata": {
    "scrolled": false
   },
   "outputs": [
    {
     "name": "stdout",
     "output_type": "stream",
     "text": [
      "Esperamos trabalhar no diretório\n",
      "C:\\Users\\User\\OneDrive - Insper - Institudo de Ensino e Pesquisa\\Desktop\\Insper\\2°Semestre DP\\CDados\\CD2020-Projeto1\n"
     ]
    }
   ],
   "source": [
    "print('Esperamos trabalhar no diretório')\n",
    "print(os.getcwd())"
   ]
  },
  {
   "cell_type": "markdown",
   "metadata": {},
   "source": [
    "Carregando a base de dados com os tweets classificados como relevantes e não relevantes:"
   ]
  },
  {
   "cell_type": "markdown",
   "metadata": {},
   "source": [
    "___\n",
    "## Classificador automático de sentimento\n"
   ]
  },
  {
   "cell_type": "markdown",
   "metadata": {},
   "source": [
    "- Produto escolhido: Atila Iamariano (@oatila)\n",
    "- Descrição do Produto: \n",
    "\n",
    "    Atila Iamarino (1984)é um biólogo e pesquisador brasileiro formado em microbiologia, possuindo também doutorado em virologia, notório por seu trabalho no canal de YouTube denominado \"Nerdologia\",que possui mais de 2 milhões de inscritos e integra o grupo Jovem Nerd, uma plataforma digital de cultura pop, jogos eletrônicos e conteúdo jovem. -Wikipedia  \n",
    "    \n",
    "    Átila já era bastante conhecido por seu canal no Youtube e por sua participação em podcasts, principalment do podcast Jovem Nerd) popularidade de Atila cresceu bastante atualmente, principalmente por conta do COVID-19, chegando a transmitir lives diárias, para falar da situação atual, cuidados preventivos e fazendo predições com uso de estatísticas e dados sobre como a situação se desdobraria, chegando a até mesmo a participar de um Programa do Roda-Viva `https://www.youtube.com/watch?v=s00BzYazxvU` - Observação de Giovanni Rozatti\n",
    "    ________________________________________________________________________________________________"
   ]
  },
  {
   "cell_type": "markdown",
   "metadata": {},
   "source": [
    "- Método de classificação: \n",
    "foram realizados 2 níveis de classificação, no primeiro foi classificada a relêvancia da mensagem, e no segundo era avaliado o teor da mensagem\n",
    "___\n",
    "\n",
    "Nível 1 de classificação:\n",
    "\n",
    "- Relevante: Tweets que contribuiriam com o processo de classificação por estarem relacionados ou ao tema discutido ou a algo próximo e/ou que continham elementos possiveis para que fosse feita a classificação do teor de sua mensagem  \n",
    "    \n",
    "- Irrelevante: Tweets que não contribuiam com o processo de classificação e/ou não podiam ser classificados por falta de elementos que possibilitassem isso,como por exemplo: \"@atila que hrs são\" (esse tweet de fato apareeu na base de dados)  \n",
    "    <font color=#DD4040>**Observação**: mensagens curtas demais com palavras inéditas ou menos frequentes também caem nessa categoria</font>\n",
    "    \n",
    "- Opinião Política: Tweets que continham mensagens de teor político e/ou próximos a política explícitos, como por exemplo, os termos que apareceram com recorrencia considerável : \"bolsominion\" e \"comunista\"\n",
    "    \n",
    "Nesse nível as mensagens foram separadas nas três categorias acima, com o objetivo de fazer uma refiltragem dos tweets obtidos, originalmente seriam apenas duas categorias (Relevante e Irrelevante), no entanto ao decorrer do processo foi vista a necessidade de estender ainda mais esse escopo, isso possibilitará a classificação das mensagens excluindo as irrelevantes e as que possuem teor político, assim como a classificação excluindo apenas as irrelevantes nos fornecendo como resultado a resposta da pergunta:\n",
    "\"Quanto as mensagens com teor político influenciam de fato na classificação?\"\n",
    "___\n",
    "\n",
    "Nível 2 de classificação:\n",
    "\n",
    "\n",
    "- Classificações atribuidas e o que levou a atribuirmos fraases a elas:\n",
    "\n",
    "    - Show and tell: Tweets que em geral além de serem mensagens de apoiar/concordar, traziam perguntas, pesquisas, dados, materiais de referencia e fontes para embasamentos e reflexões, em geral continham teor similar ao dos exemplos a seguir: \"@oatila @maisalguem vocês viram isso?\", \"@atila, o que voce acha de...?\"  \n",
    "    \n",
    "    - Apoia/concorda: Tweets que em geral dizem: \"@oatila parabens pelo trabalho\", \"@oatila bacana essa info que você apresentou\"  \n",
    "    \n",
    "    - Discorda/Desacredita: Tweets que em geral fazem críticas ao trabalho feito, ou a uma posição que foi tomada, não necessariamente apresentando embasamento sobre o porque da crítica  \n",
    "    \n",
    "    - Mensagem de ódio:Tweets que apresentam mensagens ofensivas a esmo, (não necessáriamente ao biologo, mas ainda assim perinentes ao trabalho como será visto mais adiante nesse Notebook)*  \n",
    "    \n",
    "Nesse nível as mensagens foram separadas nas quatro categorias acima, com o objetivo de própriamente classificá-las para que pudessem passar pelo processo de slicing e classificação de palavras\n",
    "A classificação nessa parte foi feita de acordo com o seguinte método:   \n",
    "1. Se possível classificar como o classifiador Naive Bayes final do projeto faria, isso é analisar as palavras individualmente tentando prever o resultado da classificação.    \n",
    "2. Se não for possível classificar via método anterior classificar a frase como um todo de acordo com o teor que contém\n",
    "3. Se não for possível classificar de acordo com método anterior, marcar tweet como Irrelevante no nível de classificação 1**\n",
    "\n",
    "  $*$ Muitas das mensagens de ódio não estavam sendo direcionadas ao Biólogo mas a principalmente à @embaixadadachina e @mariuzakrause  \n",
    "  $**$Não hoveram casos em que o método 3 tenha sido utilizado\n",
    "\n",
    "   - @embaixadadachina:Trazendo a China para perto de você! Conta oficial da Embaixada da República Popular da China na República Federativa do Brasil. - bio no twitter da embaixada  \n",
    "        Foi alvo de várias mensagens de ódio falando principalmente:sobre sistema político-sócio-econômico chinês, e acusações de culpa pela disseminação do COVID-19, por conta de supostas alerações em estatísticas e por o vírus ser \"uma criação deles\"; A motivação dessas mensagens foi que o biólogo ter utilizado de pesquisas fornecidas pelo país\n",
    "\n",
    "   - @mariuzakrause: Direita, conservadora, bolsonariana, Jacobina, gado do Bolsonaro, Advogada nas horas vagas, petistas desapareçam! - bio no twitter de Mariuza  \n",
    "         \n",
    "        Foi alvo de várias mensagens de ódio falando principalmente:sobre sua oientação política, autenticidade de sua formação em direito; A motivação dessas mensagens foi que mariuza discordou publiamente sobre o posicionamento do biólogo em relação a quarentena, chegando a difamá-lo em relação aos resultados obtidos através de algumas pesquisas dizendo que Átila estaria \"passando vergonha\"\n",
    "\n",
    "\n",
    "___\n",
    "<font color=#EF3333> - **Observação: a estrutura do código a seguir é similar ao do usado no meu trabalho no semestre anterior (perfil no git: VonIgnia), e pode ser visto em: `https://github.com/carolinechaim/Projeto_2/blob/master/NaiveBayes teste 1.ipynb` mais especificamente nos commits \"Planilha teste rodando no Jupyter\" e \"Planilha teste rodando os classificadores NaiveBayes\".**</font>"
   ]
  },
  {
   "cell_type": "markdown",
   "metadata": {},
   "source": [
    "___\n",
    "### Montando um Classificador Naive-Bayes\n",
    "\n",
    "Considerando apenas as mensagens da planilha Treinamento, ensine  seu classificador."
   ]
  },
  {
   "cell_type": "code",
   "execution_count": 3,
   "metadata": {},
   "outputs": [],
   "source": [
    "#Lê as planilhas de treinamento\n",
    "training = pd.read_excel(\"@oatila1BACKUP.xlsx\",sheet_name = 'Treinamento', index = False)"
   ]
  },
  {
   "cell_type": "code",
   "execution_count": 4,
   "metadata": {},
   "outputs": [],
   "source": [
    "#A função elimina tweets considerados como irrlevantes para o classificador\n",
    "\n",
    "#A variável Elimina recebe uma string pertencente a categoria Nivel de Relevancia \n",
    "#(\"Relevante\", \"Irrelevante\" e \"Opinião Política\")\n",
    "\n",
    "def Elimina_por_nível_de_relevância(train,Elimina):\n",
    "    for i in range(0, len(Elimina)):\n",
    "        train.drop(train[ train['Nível de relevância'] == Elimina[i].rstrip()].index, inplace=True)\n",
    "    return train\n",
    "\n",
    "#A função calcula as frequências relativas de cada categoria\n",
    "def Calcula_frequencias_relativas(train,relative):\n",
    "#Calcula as frequências relativas de cada categoria dentre o que foi considerado Relevante\n",
    "    probs = train[\"Opinião Pública\"].value_counts(relative,sort=False)\n",
    "    return probs"
   ]
  },
  {
   "cell_type": "code",
   "execution_count": 5,
   "metadata": {
    "scrolled": false
   },
   "outputs": [
    {
     "data": {
      "text/plain": [
       "Mensagem de ódio        0.216418\n",
       "Show and tell           0.283582\n",
       "Apoio/Concorda          0.320896\n",
       "Discorda/Desacredita    0.179104\n",
       "Name: Opinião Pública, dtype: float64"
      ]
     },
     "execution_count": 5,
     "metadata": {},
     "output_type": "execute_result"
    }
   ],
   "source": [
    "#lista de categorias a serem eliminadas\n",
    "Relev_Eliminate = ['Irrelevante','Opinião Política']\n",
    "\n",
    "#chamando por outro nome para evitar o re-run de training /n\n",
    "#caso contrário training assumiria o valor do return da /n\n",
    "#função o que deixaria tudo mais complicado\n",
    "\n",
    "treino = Elimina_por_nível_de_relevância (training,Relev_Eliminate)\n",
    "Calcula_frequencias_relativas(treino,True)"
   ]
  },
  {
   "cell_type": "code",
   "execution_count": 6,
   "metadata": {},
   "outputs": [
    {
     "data": {
      "image/png": "[encoded data removed]",
      "text/plain": [
       "<Figure size 432x288 with 1 Axes>"
      ]
     },
     "metadata": {},
     "output_type": "display_data"
    }
   ],
   "source": [
    "#Como facilita a vizualização e como engenheiros gostam aqui temos um gráfico\n",
    "plt.pie(treino[\"Opinião Pública\"].value_counts(sort=False),\n",
    "    labels=['Mostra','Concorda','Odeia','Discorda'], \n",
    "    #03/04 Mensagem para dev: Mudar cor para refletir o significado da opinião,cores com hexadecimais altos\n",
    "    colors=[\"#44FF44\",\"#881111\",\"#221122\",\"#4444FF\"]);\n",
    "plt.legend()\n",
    "plt.show()"
   ]
  },
  {
   "cell_type": "markdown",
   "metadata": {},
   "source": [
    "Separa todas as palavras que aparecem em cada categoria no formato de uma Série"
   ]
  },
  {
   "cell_type": "code",
   "execution_count": 7,
   "metadata": {},
   "outputs": [],
   "source": [
    "def Separa_palavras_em_series(train,lista_classificações):\n",
    "    series_categories=[]\n",
    "    for i in range(0,len(lista_classificações)):\n",
    "        category = train[train[\"Opinião Pública\"] == lista_classificações[i]]\n",
    "        category = category[\"Treinamento\"].str.cat().split()\n",
    "        series_categories.append(pd.Series(category))\n",
    "#====================================================================================================== \n",
    "    #-------------------------------------------------\n",
    "      ### tentativa (falha) de deixar o código genérico e portanto aplicável a qq objeto de estudo /n\n",
    "      ### para qq número de ccategorias, quaisquer que fosse sua ordem:\n",
    "    #------------\\/código das tentativas\\/--------------    \n",
    "        #for i in range(0,len(series_categories)):\n",
    "           # setattr('Series'+str(lista_classificações[i], 'foobar', series_categories[i])\n",
    "           # eval('Series'+str(lista_classificações[i]))series_categories[i]\n",
    "    #-------------------------------------------------\n",
    "#======================================================================================================    \n",
    "    return series_categories\n",
    "lista_classificações = treino[\"Opinião Pública\"].value_counts(sort=False).index.tolist()\n",
    "series_categorias = Separa_palavras_em_series(treino,lista_classificações) #Uma lista de 4 series;"
   ]
  },
  {
   "cell_type": "code",
   "execution_count": 8,
   "metadata": {},
   "outputs": [],
   "source": [
    "#isso só pode ser feito quando Sort=False e quando a ordem,/n\n",
    "#é conhecida caso contrário pode criar erros no classificador\n",
    "series_Apoia    = pd.Series(series_categorias[0])\n",
    "series_Discorda = pd.Series(series_categorias[1])\n",
    "series_Odeia    = pd.Series(series_categorias[2])\n",
    "series_Mostra   = pd.Series(series_categorias[3])"
   ]
  },
  {
   "cell_type": "markdown",
   "metadata": {},
   "source": [
    "Criando uma \"tabela\" com a probabilidade individual de todas as palavras aparecerem em uma dada categoria\n",
    "(\"Dado que a opinião é essa qual a probabilidade dessa palavra aparecer?\")"
   ]
  },
  {
   "cell_type": "code",
   "execution_count": 9,
   "metadata": {},
   "outputs": [],
   "source": [
    "tabela_Apoia    = series_Apoia.value_counts(True)\n",
    "tabela_Discorda = series_Discorda.value_counts(True)\n",
    "tabela_Odeia    = series_Odeia.value_counts(True)\n",
    "tabela_Mostra   = series_Mostra.value_counts(True)"
   ]
  },
  {
   "cell_type": "markdown",
   "metadata": {},
   "source": [
    "\"Raptando\" a função de limpeza de pontuações e sinais do notebook da aula 7:"
   ]
  },
  {
   "cell_type": "code",
   "execution_count": 10,
   "metadata": {},
   "outputs": [],
   "source": [
    "import re \n",
    "def cleanup(text):\n",
    "    \"\"\"\n",
    "        Função de limpeza muito simples que troca alguns sinais básicos por espaços\n",
    "    \"\"\"\n",
    "    #import string\n",
    "    #punctuation = '[!-.:?;\")(]' # Note que os sinais [] são delimitadores de um conjunto.\n",
    "    punctuation =\"['(',')','\"',\"'\",',','.',':']\"\n",
    "    pattern = re.compile(punctuation)\n",
    "    text_subbed = re.sub(pattern, ' ', text)\n",
    "    return text_subbed"
   ]
  },
  {
   "cell_type": "code",
   "execution_count": 21,
   "metadata": {},
   "outputs": [
    {
     "data": {
      "text/plain": [
       "'A  definição  de  insanidade  é  fazer a  mesma coisa /n repetidamente e esperar resultados diferentes '"
      ]
     },
     "execution_count": 21,
     "metadata": {},
     "output_type": "execute_result"
    }
   ],
   "source": [
    "exemplo1='A (definição) de \"insanidade\" é. fazer a, mesma coisa /n repetidamente e esperar resultados diferentes.'\n",
    "cleanup(exemplo1) \n",
    "#cleanup funciona... talvez seja a forma com que a função estaja chamando o texto a ser limpo seja incorreta"
   ]
  },
  {
   "cell_type": "markdown",
   "metadata": {},
   "source": [
    "Criando uma função que faz o calculo da frase pertencer a uma categoria utilizando a fórmula de bayes"
   ]
  },
  {
   "cell_type": "code",
   "execution_count": 22,
   "metadata": {},
   "outputs": [],
   "source": [
    "def limpeza_total(tweet):\n",
    "    cleanup(tweet)\n",
    "    lista_palavras = tweet.split()\n",
    "    return(lista_palavras)\n",
    "limpeza_total()"
   ]
  },
  {
   "cell_type": "code",
   "execution_count": 25,
   "metadata": {},
   "outputs": [
    {
     "data": {
      "text/plain": [
       "['@oatila', '@mariuzakrauze', 'texto', 'aqui', 'exemplo@jovemnerd']"
      ]
     },
     "execution_count": 25,
     "metadata": {},
     "output_type": "execute_result"
    }
   ],
   "source": [
    "#checa as eliminações de string com @\n",
    "checagem1=\"@oatila @mariuzakrauze \\n texto aqui exemplo@jovemnerd \" #checa as eliminações de string com @\n",
    "limpeza_total(checagem1)\n",
    "\n",
    "#03/04- Foi descoberto que a função limpeza total não estava funcionando corretamente /n\n",
    "#isso é um problema pois @marianakreuza e @embaichadadachina constituem um viés para/\n",
    "#a classificação, fazendo-a tender para \"Mensagem de ódio\" e \"Discorda/desacretita\"\n",
    "\n",
    "#03/04- Pesquisas no stack overflow indicam o uso da biblioteca re (a mesma utilizada na função cleanup)\n",
    "\n",
    "#Depuração limpeza total não faz nada em relação À @ e a palavras com @, portanto essa parte da função \\n\n",
    "#será eliminada (também não faz nada em relação á quebra de linhas então essa também será cortada)"
   ]
  },
  {
   "cell_type": "code",
   "execution_count": 31,
   "metadata": {},
   "outputs": [],
   "source": [
    "def classificador_de_palavras_multinomial_naive_bayes(tweet):  \n",
    "    \n",
    "    limpeza_total(tweet)\n",
    "    for palavra in limpeza_total(tweet):\n",
    "        prob_Apoia = 1\n",
    "        prob_Discorda = 1\n",
    "        prob_Odeia = 1\n",
    "        prob_Mostra = 1\n",
    "    \n",
    "    #===========================================================    \n",
    "        #---------------------------------------------------\n",
    "        if palavra in tabela_Apoia.index:\n",
    "            prob_palavra_Apoia = tabela_Apoia[palavra]\n",
    "        else:\n",
    "            prob_palavra_Apoia = 1\n",
    "        #---------------------------------------------------    \n",
    "        if palavra in tabela_Discorda.index:\n",
    "            prob_palavra_Discorda = tabela_Discorda[palavra]\n",
    "        else:\n",
    "            prob_palavra_Discorda = 1\n",
    "        #---------------------------------------------------\n",
    "        if palavra in tabela_Odeia.index:\n",
    "            prob_palavra_Odeia = tabela_Odeia[palavra]\n",
    "        else:\n",
    "            prob_palavra_Odeia = 1\n",
    "        #---------------------------------------------------\n",
    "        if palavra in tabela_Mostra.index:\n",
    "            prob_palavra_Mostra = tabela_Mostra[palavra]\n",
    "        else:\n",
    "            prob_palavra_Mostra = 1\n",
    "        #---------------------------------------------------\n",
    "    #===========================================================\n",
    "        #a lista_prob foi um Update em 03/04 foi criada para bug fixing,caso bugs se mantenham \\n\n",
    "        #eliminar Opinião Politica de Relevante\n",
    "        \n",
    "        #Update em 03/04:Remoção de Op.Política\n",
    "        \n",
    "        #Update em 03/04 erro continua a existir, será necessário fazer uma depuração de todo código\\n\n",
    "        #no momento considero que o erro se deve a uma ou mais das seguintes altenativas:\n",
    "        \n",
    "        #-(Quase certamente o problema é aqui, visto que os cálculos não forsm alterados)\n",
    "        # Processo de slicing das strings, os erros começaram pouco após a mudança na função limpeza_total \\n\n",
    "        #no entanto persistiram após a sua eliminação, muito provavelmente essa não é a causa, além disso \\n\n",
    "        #alem disso consigo imaginar problema em cleanup, problema em \\n\n",
    "        #classificador_de_palavras_multinomial_naive_bayes,\n",
    "        #problema na leitura da planilha\n",
    "        \n",
    "        #Em depuração foi descoberto que o erro do código estava no conjunto de limpezas da string \\n\n",
    "        #Um novo notebook será montado e esse aqui ficará obsoleto servindo apenas como relatório de execução\\n\n",
    "        #e de erros ocorridos até o dia 03/04 dia em que os erros se iniciaram, nesse novo notebook excluiremos n\n",
    "        #temporáriamente as funções de limpeza que não estavam sendo utilizadas ou declaradas corretamente\n",
    "        \n",
    "        prob_Apoia *= prob_palavra_Apoia\n",
    "        prob_Discorda *= prob_palavra_Discorda\n",
    "        prob_Odeia *= prob_palavra_Odeia\n",
    "        prob_Mostra *= prob_palavra_Mostra\n",
    "        \n",
    "    #=========================================================== \n",
    "    #Se não houver alteração no valor inicial (1) é porque não /n\n",
    "    # foram detectadas nenhuma  pertencente áquela categoria\n",
    "    #Reseta a probabilidade da categoria.\n",
    "    # (transformar em função??????????????)\n",
    "\n",
    "        #---------------------------------------------------\n",
    "        if prob_Apoia == 1:\n",
    "            prob_Apoia =0\n",
    "        #---------------------------------------------------\n",
    "        if prob_Discorda == 1:\n",
    "            prob_Discorda =0\n",
    "        #---------------------------------------------------\n",
    "        if prob_Odeia == 1:\n",
    "            prob_Odeia =0\n",
    "        #---------------------------------------------------\n",
    "        if prob_Mostra == 1:\n",
    "            prob_Mostra =0\n",
    "        #---------------------------------------------------    \n",
    "    \n",
    "            if (prob_Apoia > prob_Discorda) and (prob_Apoia > prob_Mostra) and (prob_Apoia > prob_Odeia):\n",
    "                return \"Apoio/Concorda\"\n",
    "            elif (prob_Mostra > prob_Apoia) and (prob_Mostra > prob_Discorda) and (prob_Mostra > prob_Odeia):\n",
    "                return \"Show and tell\"\n",
    "            elif (prob_Discorda > prob_Apoia) and (prob_Discorda > prob_Mostra) and (prob_Discorda > prob_Odeia):\n",
    "                return \"Discorda/Desacredita\"\n",
    "            elif (prob_Odeia > prob_Apoia) and (prob_Odeia > prob_Discorda) and (prob_Odeia > prob_Mostra):\n",
    "                return \"Mensagem de ódio\"\n",
    "            else:\n",
    "                return \"Erro\""
   ]
  },
  {
   "cell_type": "markdown",
   "metadata": {},
   "source": [
    "___\n",
    "### Verificando a performance do Classificador\n",
    "\n",
    "Agora você deve testar o seu classificador com a base de Testes."
   ]
  },
  {
   "cell_type": "markdown",
   "metadata": {},
   "source": [
    "leitura da planilha para testes com o classificador"
   ]
  },
  {
   "cell_type": "code",
   "execution_count": 32,
   "metadata": {},
   "outputs": [],
   "source": [
    "test = pd.read_excel(\"@oatila1.xlsx\",sheet_name = 'Teste', index = False).set_index(\"Teste\")\n",
    "target = test[\"Target\"]\n",
    "test = test.drop(columns=[\"Target\"])\n",
    "lista_tweets = list(test.index)"
   ]
  },
  {
   "cell_type": "code",
   "execution_count": 33,
   "metadata": {},
   "outputs": [
    {
     "data": {
      "text/html": [
       "<div>\n",
       "<style scoped>\n",
       "    .dataframe tbody tr th:only-of-type {\n",
       "        vertical-align: middle;\n",
       "    }\n",
       "\n",
       "    .dataframe tbody tr th {\n",
       "        vertical-align: top;\n",
       "    }\n",
       "\n",
       "    .dataframe thead th {\n",
       "        text-align: right;\n",
       "    }\n",
       "</style>\n",
       "<table border=\"1\" class=\"dataframe\">\n",
       "  <thead>\n",
       "    <tr style=\"text-align: right;\">\n",
       "      <th></th>\n",
       "      <th>Classificação</th>\n",
       "    </tr>\n",
       "    <tr>\n",
       "      <th>Teste</th>\n",
       "      <th></th>\n",
       "    </tr>\n",
       "  </thead>\n",
       "  <tbody>\n",
       "    <tr>\n",
       "      <th>@mariuzakrause @oatila toma essa jantada ai, mula, nao sabe fazer uma pesquisa antes de falar bosta na internet. vai cuidar dos seus netos. infeliz</th>\n",
       "      <td>Apoio/Concorda</td>\n",
       "    </tr>\n",
       "    <tr>\n",
       "      <th>@luis_wback @daciolocable @oatila usar uma única fonte como referência é a antítese da ciência. \\npassar bem.</th>\n",
       "      <td>Erro</td>\n",
       "    </tr>\n",
       "    <tr>\n",
       "      <th>@embaixadachina @oatila foda-se a china e esse biólogo de fundo de quintal!</th>\n",
       "      <td>Apoio/Concorda</td>\n",
       "    </tr>\n",
       "    <tr>\n",
       "      <th>@oatila isso ainda é uma dúvida né, ainda não é 100% certo que vc fiquei imunizado depois da primeira infecção.\\n\\ne a certeza disso pode mudar tudo....</th>\n",
       "      <td>Mensagem de ódio</td>\n",
       "    </tr>\n",
       "    <tr>\n",
       "      <th>@oatila é possível contrair gripe e covid19 simultaneamente?</th>\n",
       "      <td>Discorda/Desacredita</td>\n",
       "    </tr>\n",
       "    <tr>\n",
       "      <th>@oatila mania de perguntar pra cientista \"você acredita em tal coisa?\". não, não é fé é fato. sem dados, sem inferências.</th>\n",
       "      <td>Erro</td>\n",
       "    </tr>\n",
       "    <tr>\n",
       "      <th>@mariuzakrause @oatila eita que a mocinha da direitinha conservadorinha se sentiu ofendida...\\neu tb me sentiria ofendida se tivesse o cérebro do tamanho de uma ervilha igual ao seu. deve ser muito difícil bater de frente com um cientista e ser humilhada com fatos.</th>\n",
       "      <td>Apoio/Concorda</td>\n",
       "    </tr>\n",
       "    <tr>\n",
       "      <th>@mariuzakrause @oatila mariuza, que feio. apaga essa vergonha pois anthony fauci, infectologista que integra a equipe do trump afirmou isso mesmo. \\n\\nque mico vc pagou, hein, dona?</th>\n",
       "      <td>Apoio/Concorda</td>\n",
       "    </tr>\n",
       "    <tr>\n",
       "      <th>@oatila cara, eu tô falando isso desde o início do mês. muito igual</th>\n",
       "      <td>Mensagem de ódio</td>\n",
       "    </tr>\n",
       "    <tr>\n",
       "      <th>@oatila @papacha58986333  diz aí pro trump que é exagero ...</th>\n",
       "      <td>Erro</td>\n",
       "    </tr>\n",
       "    <tr>\n",
       "      <th>@mariuzakrause @oatila eh bot clã, nao encana</th>\n",
       "      <td>Apoio/Concorda</td>\n",
       "    </tr>\n",
       "    <tr>\n",
       "      <th>@de_theo @brunobaguiar @tombaboo @oatila o fato é q não há consenso sobre o tema\\nmas está claro que o interesse não é propor o diálogo sobre os diferentes pontos se vista\\nmas sim causar o alarde e pânico\\ntragédia vende mais manchete</th>\n",
       "      <td>Erro</td>\n",
       "    </tr>\n",
       "    <tr>\n",
       "      <th>@oatila lavou as mãos antes de jantar atila?</th>\n",
       "      <td>Erro</td>\n",
       "    </tr>\n",
       "    <tr>\n",
       "      <th>@oatila @mariuzakrause o engraçado é que esse pessoal acha que essas previsões são os spoilers das mortes que vão acontecer. essas previsões é justamente  o contrário, é pra eles saberem o que aguarda e trabalharem pra reverter.</th>\n",
       "      <td>Apoio/Concorda</td>\n",
       "    </tr>\n",
       "    <tr>\n",
       "      <th>@ricardomvet @lpcmauricio @oatila já vivi e trabalhei no japão, meu pai e irmão vivem à 20 anos lá:\\n1- japão fechou todas escolas, disney e demais eventos com mais de 100 pessoas por 3 meses.\\n2- no japão a maioria dos idosos moram sozinho. brasil tem favelas, japão não tem tradução para isso.</th>\n",
       "      <td>Erro</td>\n",
       "    </tr>\n",
       "    <tr>\n",
       "      <th>@embaixadachina @oatila ele que vá pra china ser exterminado!!!!</th>\n",
       "      <td>Apoio/Concorda</td>\n",
       "    </tr>\n",
       "    <tr>\n",
       "      <th>@oatila eu li que quem testou negativo e depois positivo mesmo assim já não infecta outras pessoas (?)</th>\n",
       "      <td>Erro</td>\n",
       "    </tr>\n",
       "    <tr>\n",
       "      <th>@ricardomvet @oatila vá se foder, canalha!</th>\n",
       "      <td>Erro</td>\n",
       "    </tr>\n",
       "    <tr>\n",
       "      <th>@mariuzakrause @oatila perdão senhora,mas a senhora não tem nada de conservadora.</th>\n",
       "      <td>Apoio/Concorda</td>\n",
       "    </tr>\n",
       "    <tr>\n",
       "      <th>@mariuzakrause @oatila senhora, volte para o facebook!</th>\n",
       "      <td>Apoio/Concorda</td>\n",
       "    </tr>\n",
       "    <tr>\n",
       "      <th>@oatila só discordo do título de pior presidente! 😎</th>\n",
       "      <td>Erro</td>\n",
       "    </tr>\n",
       "    <tr>\n",
       "      <th>@anhangatinga @marciosaales @erickrekishi @elivieirajr @oatila ele se retratou pelo menos?</th>\n",
       "      <td>Discorda/Desacredita</td>\n",
       "    </tr>\n",
       "    <tr>\n",
       "      <th>@mariuzakrause @oatila quem não propaga fake news é a mariuza conservadora e bolsolover</th>\n",
       "      <td>Apoio/Concorda</td>\n",
       "    </tr>\n",
       "    <tr>\n",
       "      <th>@mariuzakrause @oatila moro nos us e digo que é verdade. estes números foram apresentados hj na coletiva de donald trump.</th>\n",
       "      <td>Apoio/Concorda</td>\n",
       "    </tr>\n",
       "    <tr>\n",
       "      <th>@dramaqueenjuju @oatila https://t.co/ai5g7ocwxe\\nwell, a forbes é algo bem confiável. eu n achei o estudo em si, pq vi numa postagem de facebook</th>\n",
       "      <td>Erro</td>\n",
       "    </tr>\n",
       "    <tr>\n",
       "      <th>@embaixadachina @oatila #viruschines 😠😤👿\\nvocês não vão mandar no brasil! \\nquem manda aqui é deus, repreendo este governo louco de vocês em nome de jesus! \\n#nãocomprenadadachina</th>\n",
       "      <td>Apoio/Concorda</td>\n",
       "    </tr>\n",
       "    <tr>\n",
       "      <th>@oatila a soberba do cara perguntar pro especialista: “você tá sabendo fazer o seu trabalho? sei não, pq eu não to entendendo nada”</th>\n",
       "      <td>Erro</td>\n",
       "    </tr>\n",
       "    <tr>\n",
       "      <th>@miaguta @embaixadachina @oatila quanta merda dita kkkkk</th>\n",
       "      <td>Erro</td>\n",
       "    </tr>\n",
       "    <tr>\n",
       "      <th>@bozi_fabio @vallinotolucas @oatila mas temos que dar uma chance, vai que ele faz um due diligence sobre o covid, tenha um brainstorm e apresente um kick off de combate contra o vírus 🦠😁</th>\n",
       "      <td>Erro</td>\n",
       "    </tr>\n",
       "    <tr>\n",
       "      <th>@andersonlz1980 @willshitpost2 @oatila ele ta apontando, esse perfil é meme</th>\n",
       "      <td>Erro</td>\n",
       "    </tr>\n",
       "    <tr>\n",
       "      <th>...</th>\n",
       "      <td>...</td>\n",
       "    </tr>\n",
       "    <tr>\n",
       "      <th>@oatila vc acha que no intuito de fazer um vírus pra combater o cancer de pulmão eles fizeram essa cagada aí?</th>\n",
       "      <td>Apoio/Concorda</td>\n",
       "    </tr>\n",
       "    <tr>\n",
       "      <th>@mariuzakrause @oatila as pessoas estão ficando enojadas dos haters e bots dos bolsonaros. ninguém tá aguentando mais. as pesquisas, os panelaços e os monitoramentos das redes sociais, mostram isso de forma enfática.</th>\n",
       "      <td>Apoio/Concorda</td>\n",
       "    </tr>\n",
       "    <tr>\n",
       "      <th>@oatila e o que falar para esta gente que dix que a china fez o vírus e o espalhou propositadamente mundo afora?! ayuda https://t.co/53tqoj1ia3</th>\n",
       "      <td>Apoio/Concorda</td>\n",
       "    </tr>\n",
       "    <tr>\n",
       "      <th>@oatila você está condenando um presidente eleito por uma “projeção” que ele ainda não teve tempo de reagir? você mesmo fez um vídeo sobre um estudo que estava equivocado. baseado em que você diz que o atual presidente dos eua é ineficiente? essa projeção também pode estar equivocada.</th>\n",
       "      <td>Erro</td>\n",
       "    </tr>\n",
       "    <tr>\n",
       "      <th>@oatila @mariuzakrause eu fico realmente triste com o ponto em que chegamos. as pessoas não tem um pingo de respeito pelas outras num nível jamais visto antes.\\nela vai lá desperdiçar sua energia só pra atacar gratuitamente a pessoa que tá tentando fazer alguma coisa com seriedade.</th>\n",
       "      <td>Apoio/Concorda</td>\n",
       "    </tr>\n",
       "    <tr>\n",
       "      <th>@mariuzakrause @oatila poxa,não faz assim com o gado,atila .😂😂😂😂😂!!!</th>\n",
       "      <td>Apoio/Concorda</td>\n",
       "    </tr>\n",
       "    <tr>\n",
       "      <th>@gabrielbfranca @causalitybreake @elivieirajr @fleija4 @oatila china escondeu até o casos das dezenas amigo. acha realmente que eles saberiam a proporção que se tornaria? \\nbrasil por exemplo. tivemos 2 casos de bactérias novas e um o sabiavírus infectando uma pessoa. tu achas que eles isolaram todos que tiveram contato? não.</th>\n",
       "      <td>Mensagem de ódio</td>\n",
       "    </tr>\n",
       "    <tr>\n",
       "      <th>@oatila governo chinês não é burro.\\neles podem ter muito controle sobre o fluxo de informações dentro do país, mas se tentassem maquiar a letalidade do vírus para outros países, assim que o vírus chegasse em outro país a farsa cairia por terra.</th>\n",
       "      <td>Apoio/Concorda</td>\n",
       "    </tr>\n",
       "    <tr>\n",
       "      <th>@patricia_paulla @marcos0451 @oatila robô</th>\n",
       "      <td>Erro</td>\n",
       "    </tr>\n",
       "    <tr>\n",
       "      <th>@ryanstruyk @oatila @xadrezverbal parece que o trump viu os números de mortes se nada fosse feito</th>\n",
       "      <td>Erro</td>\n",
       "    </tr>\n",
       "    <tr>\n",
       "      <th>@gerinodd @oatila https://t.co/ud6ksevkvr não sou eu que tou falando.</th>\n",
       "      <td>Erro</td>\n",
       "    </tr>\n",
       "    <tr>\n",
       "      <th>@oatila e aí @caiocgomes. o @oatila falou que física é muito fácil, comparado com biologia. vai deixar? kkkkkkk</th>\n",
       "      <td>Erro</td>\n",
       "    </tr>\n",
       "    <tr>\n",
       "      <th>@oatila outro ponto importante é saber a efetividade dos testes. essa nota da sbac é bem clara. \\n\\nhttps://t.co/3tizbgltvi</th>\n",
       "      <td>Discorda/Desacredita</td>\n",
       "    </tr>\n",
       "    <tr>\n",
       "      <th>@oatila @nilmoretto fudeu, já era, milhões irão morrer, infelizmente</th>\n",
       "      <td>Discorda/Desacredita</td>\n",
       "    </tr>\n",
       "    <tr>\n",
       "      <th>@gerinodd @oatila corriere della sera é o maior e mais tradicional jornal da itália.</th>\n",
       "      <td>Erro</td>\n",
       "    </tr>\n",
       "    <tr>\n",
       "      <th>@mariuzakrause @oatila xiu tia, vai dormir</th>\n",
       "      <td>Apoio/Concorda</td>\n",
       "    </tr>\n",
       "    <tr>\n",
       "      <th>@marciomarra77 @oatila @chevroletbr @chevrolet como já disse não quero trocar de carro\\n\\no átila não disse q teriamos 1mi de mortos, um estudo disse, se absolutamente nada fosse feito, e a vida continua-se normal, com as pessoas achando q é só uma gripizinha e nada mais, ai poderia ser q isso acontece se, aprenda a interpretar</th>\n",
       "      <td>Erro</td>\n",
       "    </tr>\n",
       "    <tr>\n",
       "      <th>@guimrts @oatila e ele disse algo errado? trump é populista, vive de causar e chamar a atenção, assim como bolsonaro com suas declarações toscas e cortinas de fumaça. quando o país tá na sua situação normal o gado vai aplaudir e nada vai mudar, mas estamos no meio de uma pandemia.</th>\n",
       "      <td>Erro</td>\n",
       "    </tr>\n",
       "    <tr>\n",
       "      <th>@mariuzakrause @oatila engraçado como uma \"fake news\" faz o trump prorrogar a quarentena até o final de abril, né?!?! aproveita esse período de isolamento e vai estudar um pouco antes de defecar pelos dedos!!!  https://t.co/i6ftsoi7tz</th>\n",
       "      <td>Apoio/Concorda</td>\n",
       "    </tr>\n",
       "    <tr>\n",
       "      <th>@mariuzakrause @oatila biologozinho quem é a senhora na fila do pão dona creuza? volte pro perfil de bernado kurster e passar bem.</th>\n",
       "      <td>Apoio/Concorda</td>\n",
       "    </tr>\n",
       "    <tr>\n",
       "      <th>@emilio_vaz05 @renatapfgil @oatila @xadrezverbal vc tem que restringir a migração de pessoas. é muito arriscado não fechar fronteiras pq casos assintomáticos podem levar o vírus para outros lugares, recomeçando o ciclo de transmissão.</th>\n",
       "      <td>Discorda/Desacredita</td>\n",
       "    </tr>\n",
       "    <tr>\n",
       "      <th>@embaixadachina @oatila parabéns, mas não exime da culpa. cadê as desculpas ao mundo do presidente chinês?</th>\n",
       "      <td>Apoio/Concorda</td>\n",
       "    </tr>\n",
       "    <tr>\n",
       "      <th>@oatila @ricardomvet pisa neles @oatila</th>\n",
       "      <td>Erro</td>\n",
       "    </tr>\n",
       "    <tr>\n",
       "      <th>@nglfrocha @rodrigogomes670 @oatila em wuhan? pra mim isso era na china inteirab</th>\n",
       "      <td>Mensagem de ódio</td>\n",
       "    </tr>\n",
       "    <tr>\n",
       "      <th>@embaixadachina @oatila conteve tanto que foi pro mundo todo</th>\n",
       "      <td>Apoio/Concorda</td>\n",
       "    </tr>\n",
       "    <tr>\n",
       "      <th>@embaixadachina @oatila vírus chines</th>\n",
       "      <td>Apoio/Concorda</td>\n",
       "    </tr>\n",
       "    <tr>\n",
       "      <th>@embaixadachina @oatila devemos parar de vender qq que seja nossa mercadoria, devemos fortalecer o nosso mercado interno e promover o desabastecimento dos chineses, eles causaram o vírus e nada pagaram por isso, milhares de mortes não podem ser atoa.</th>\n",
       "      <td>Apoio/Concorda</td>\n",
       "    </tr>\n",
       "    <tr>\n",
       "      <th>@mariuzakrause @oatila tenha mais respeito, tia do pavê</th>\n",
       "      <td>Apoio/Concorda</td>\n",
       "    </tr>\n",
       "    <tr>\n",
       "      <th>@oatila isso ja nao estava acontecendo? lembro de ter lido sobre isso ha umas 2 semanas, pelo menos. pessoas curadas que ainda testavam positivo.</th>\n",
       "      <td>Mensagem de ódio</td>\n",
       "    </tr>\n",
       "    <tr>\n",
       "      <th>@oatila por favor, continue o trabalho que está fazendo, @oatila !\\n\\nobrigado.</th>\n",
       "      <td>Erro</td>\n",
       "    </tr>\n",
       "  </tbody>\n",
       "</table>\n",
       "<p>399 rows × 1 columns</p>\n",
       "</div>"
      ],
      "text/plain": [
       "                                                           Classificação\n",
       "Teste                                                                   \n",
       "@mariuzakrause @oatila toma essa jantada ai, mu...        Apoio/Concorda\n",
       "@luis_wback @daciolocable @oatila usar uma únic...                  Erro\n",
       "@embaixadachina @oatila foda-se a china e esse ...        Apoio/Concorda\n",
       "@oatila isso ainda é uma dúvida né, ainda não é...      Mensagem de ódio\n",
       "@oatila é possível contrair gripe e covid19 sim...  Discorda/Desacredita\n",
       "@oatila mania de perguntar pra cientista \"você ...                  Erro\n",
       "@mariuzakrause @oatila eita que a mocinha da di...        Apoio/Concorda\n",
       "@mariuzakrause @oatila mariuza, que feio. apaga...        Apoio/Concorda\n",
       "@oatila cara, eu tô falando isso desde o início...      Mensagem de ódio\n",
       "@oatila @papacha58986333  diz aí pro trump que ...                  Erro\n",
       "@mariuzakrause @oatila eh bot clã, nao encana             Apoio/Concorda\n",
       "@de_theo @brunobaguiar @tombaboo @oatila o fato...                  Erro\n",
       "@oatila lavou as mãos antes de jantar atila?                        Erro\n",
       "@oatila @mariuzakrause o engraçado é que esse p...        Apoio/Concorda\n",
       "@ricardomvet @lpcmauricio @oatila já vivi e tra...                  Erro\n",
       "@embaixadachina @oatila ele que vá pra china se...        Apoio/Concorda\n",
       "@oatila eu li que quem testou negativo e depois...                  Erro\n",
       "@ricardomvet @oatila vá se foder, canalha!                          Erro\n",
       "@mariuzakrause @oatila perdão senhora,mas a sen...        Apoio/Concorda\n",
       "@mariuzakrause @oatila senhora, volte para o fa...        Apoio/Concorda\n",
       "@oatila só discordo do título de pior president...                  Erro\n",
       "@anhangatinga @marciosaales @erickrekishi @eliv...  Discorda/Desacredita\n",
       "@mariuzakrause @oatila quem não propaga fake ne...        Apoio/Concorda\n",
       "@mariuzakrause @oatila moro nos us e digo que é...        Apoio/Concorda\n",
       "@dramaqueenjuju @oatila https://t.co/ai5g7ocwxe...                  Erro\n",
       "@embaixadachina @oatila #viruschines 😠😤👿\\nvocês...        Apoio/Concorda\n",
       "@oatila a soberba do cara perguntar pro especia...                  Erro\n",
       "@miaguta @embaixadachina @oatila quanta merda d...                  Erro\n",
       "@bozi_fabio @vallinotolucas @oatila mas temos q...                  Erro\n",
       "@andersonlz1980 @willshitpost2 @oatila ele ta a...                  Erro\n",
       "...                                                                  ...\n",
       "@oatila vc acha que no intuito de fazer um víru...        Apoio/Concorda\n",
       "@mariuzakrause @oatila as pessoas estão ficando...        Apoio/Concorda\n",
       "@oatila e o que falar para esta gente que dix q...        Apoio/Concorda\n",
       "@oatila você está condenando um presidente elei...                  Erro\n",
       "@oatila @mariuzakrause eu fico realmente triste...        Apoio/Concorda\n",
       "@mariuzakrause @oatila poxa,não faz assim com o...        Apoio/Concorda\n",
       "@gabrielbfranca @causalitybreake @elivieirajr @...      Mensagem de ódio\n",
       "@oatila governo chinês não é burro.\\neles podem...        Apoio/Concorda\n",
       "@patricia_paulla @marcos0451 @oatila robô                           Erro\n",
       "@ryanstruyk @oatila @xadrezverbal parece que o ...                  Erro\n",
       "@gerinodd @oatila https://t.co/ud6ksevkvr não s...                  Erro\n",
       "@oatila e aí @caiocgomes. o @oatila falou que f...                  Erro\n",
       "@oatila outro ponto importante é saber a efetiv...  Discorda/Desacredita\n",
       "@oatila @nilmoretto fudeu, já era, milhões irão...  Discorda/Desacredita\n",
       "@gerinodd @oatila corriere della sera é o maior...                  Erro\n",
       "@mariuzakrause @oatila xiu tia, vai dormir                Apoio/Concorda\n",
       "@marciomarra77 @oatila @chevroletbr @chevrolet ...                  Erro\n",
       "@guimrts @oatila e ele disse algo errado? trump...                  Erro\n",
       "@mariuzakrause @oatila engraçado como uma \"fake...        Apoio/Concorda\n",
       "@mariuzakrause @oatila biologozinho quem é a se...        Apoio/Concorda\n",
       "@emilio_vaz05 @renatapfgil @oatila @xadrezverba...  Discorda/Desacredita\n",
       "@embaixadachina @oatila parabéns, mas não exime...        Apoio/Concorda\n",
       "@oatila @ricardomvet pisa neles @oatila                             Erro\n",
       "@nglfrocha @rodrigogomes670 @oatila em wuhan? p...      Mensagem de ódio\n",
       "@embaixadachina @oatila conteve tanto que foi p...        Apoio/Concorda\n",
       "@embaixadachina @oatila vírus chines                      Apoio/Concorda\n",
       "@embaixadachina @oatila devemos parar de vender...        Apoio/Concorda\n",
       "@mariuzakrause @oatila tenha mais respeito, tia...        Apoio/Concorda\n",
       "@oatila isso ja nao estava acontecendo? lembro ...      Mensagem de ódio\n",
       "@oatila por favor, continue o trabalho que está...                  Erro\n",
       "\n",
       "[399 rows x 1 columns]"
      ]
     },
     "execution_count": 33,
     "metadata": {},
     "output_type": "execute_result"
    }
   ],
   "source": [
    "for tweet in lista_tweets:\n",
    "    test.loc[tweet,\"Classificação\"] = classificador_de_palavras_multinomial_naive_bayes(tweet)\n",
    "test"
   ]
  },
  {
   "cell_type": "code",
   "execution_count": 29,
   "metadata": {},
   "outputs": [],
   "source": [
    "acertos=0\n",
    "for i in range(len(test)):\n",
    "        if test.Classificação[i]==target[i]:\n",
    "            acertos+=1"
   ]
  },
  {
   "cell_type": "code",
   "execution_count": 30,
   "metadata": {},
   "outputs": [
    {
     "data": {
      "text/plain": [
       "0                       214\n",
       "Apoio/Concorda          134\n",
       "Mensagem de ódio         26\n",
       "Discorda/Desacredita     25\n",
       "Name: Classificação, dtype: int64"
      ]
     },
     "execution_count": 30,
     "metadata": {},
     "output_type": "execute_result"
    }
   ],
   "source": [
    "test.Classificação.value_counts()"
   ]
  },
  {
   "cell_type": "code",
   "execution_count": 19,
   "metadata": {},
   "outputs": [
    {
     "data": {
      "text/plain": [
       "Apoio/Concorda          16\n",
       "Discorda/Desacredita    15\n",
       "Show and tell           14\n",
       "Mensagem de ódio        12\n",
       "Name: Target, dtype: int64"
      ]
     },
     "execution_count": 19,
     "metadata": {},
     "output_type": "execute_result"
    }
   ],
   "source": [
    "target.value_counts()"
   ]
  },
  {
   "cell_type": "code",
   "execution_count": 20,
   "metadata": {},
   "outputs": [
    {
     "ename": "ValueError",
     "evalue": "'label' must be of length 'x'",
     "output_type": "error",
     "traceback": [
      "\u001b[1;31m---------------------------------------------------------------------------\u001b[0m",
      "\u001b[1;31mValueError\u001b[0m                                Traceback (most recent call last)",
      "\u001b[1;32m<ipython-input-20-03e15e0ca179>\u001b[0m in \u001b[0;36m<module>\u001b[1;34m\u001b[0m\n\u001b[0;32m      3\u001b[0m plt.pie(test.Classificação.value_counts(sort=False),\n\u001b[0;32m      4\u001b[0m     \u001b[0mlabels\u001b[0m\u001b[1;33m=\u001b[0m\u001b[1;33m[\u001b[0m\u001b[1;34m'Concorda'\u001b[0m\u001b[1;33m,\u001b[0m\u001b[1;34m'Discorda'\u001b[0m\u001b[1;33m,\u001b[0m\u001b[1;34m'Odeia'\u001b[0m\u001b[1;33m]\u001b[0m\u001b[1;33m,\u001b[0m\u001b[1;33m\u001b[0m\u001b[1;33m\u001b[0m\u001b[0m\n\u001b[1;32m----> 5\u001b[1;33m     colors=[\"#44FF44\",\"#881111\",\"221122\"]);\n\u001b[0m\u001b[0;32m      6\u001b[0m \u001b[0mplt\u001b[0m\u001b[1;33m.\u001b[0m\u001b[0mlegend\u001b[0m\u001b[1;33m(\u001b[0m\u001b[1;33m)\u001b[0m\u001b[1;33m\u001b[0m\u001b[1;33m\u001b[0m\u001b[0m\n\u001b[0;32m      7\u001b[0m \u001b[1;31m#---------------------------\u001b[0m\u001b[1;33m\u001b[0m\u001b[1;33m\u001b[0m\u001b[1;33m\u001b[0m\u001b[0m\n",
      "\u001b[1;32m~\\Anaconda3\\lib\\site-packages\\matplotlib\\pyplot.py\u001b[0m in \u001b[0;36mpie\u001b[1;34m(x, explode, labels, colors, autopct, pctdistance, shadow, labeldistance, startangle, radius, counterclock, wedgeprops, textprops, center, frame, rotatelabels, data)\u001b[0m\n\u001b[0;32m   2803\u001b[0m         \u001b[0mwedgeprops\u001b[0m\u001b[1;33m=\u001b[0m\u001b[0mwedgeprops\u001b[0m\u001b[1;33m,\u001b[0m \u001b[0mtextprops\u001b[0m\u001b[1;33m=\u001b[0m\u001b[0mtextprops\u001b[0m\u001b[1;33m,\u001b[0m \u001b[0mcenter\u001b[0m\u001b[1;33m=\u001b[0m\u001b[0mcenter\u001b[0m\u001b[1;33m,\u001b[0m\u001b[1;33m\u001b[0m\u001b[1;33m\u001b[0m\u001b[0m\n\u001b[0;32m   2804\u001b[0m         frame=frame, rotatelabels=rotatelabels, **({\"data\": data} if\n\u001b[1;32m-> 2805\u001b[1;33m         data is not None else {}))\n\u001b[0m\u001b[0;32m   2806\u001b[0m \u001b[1;33m\u001b[0m\u001b[0m\n\u001b[0;32m   2807\u001b[0m \u001b[1;33m\u001b[0m\u001b[0m\n",
      "\u001b[1;32m~\\Anaconda3\\lib\\site-packages\\matplotlib\\__init__.py\u001b[0m in \u001b[0;36minner\u001b[1;34m(ax, data, *args, **kwargs)\u001b[0m\n\u001b[0;32m   1808\u001b[0m                         \u001b[1;34m\"the Matplotlib list!)\"\u001b[0m \u001b[1;33m%\u001b[0m \u001b[1;33m(\u001b[0m\u001b[0mlabel_namer\u001b[0m\u001b[1;33m,\u001b[0m \u001b[0mfunc\u001b[0m\u001b[1;33m.\u001b[0m\u001b[0m__name__\u001b[0m\u001b[1;33m)\u001b[0m\u001b[1;33m,\u001b[0m\u001b[1;33m\u001b[0m\u001b[1;33m\u001b[0m\u001b[0m\n\u001b[0;32m   1809\u001b[0m                         RuntimeWarning, stacklevel=2)\n\u001b[1;32m-> 1810\u001b[1;33m             \u001b[1;32mreturn\u001b[0m \u001b[0mfunc\u001b[0m\u001b[1;33m(\u001b[0m\u001b[0max\u001b[0m\u001b[1;33m,\u001b[0m \u001b[1;33m*\u001b[0m\u001b[0margs\u001b[0m\u001b[1;33m,\u001b[0m \u001b[1;33m**\u001b[0m\u001b[0mkwargs\u001b[0m\u001b[1;33m)\u001b[0m\u001b[1;33m\u001b[0m\u001b[1;33m\u001b[0m\u001b[0m\n\u001b[0m\u001b[0;32m   1811\u001b[0m \u001b[1;33m\u001b[0m\u001b[0m\n\u001b[0;32m   1812\u001b[0m         inner.__doc__ = _add_data_doc(inner.__doc__,\n",
      "\u001b[1;32m~\\Anaconda3\\lib\\site-packages\\matplotlib\\axes\\_axes.py\u001b[0m in \u001b[0;36mpie\u001b[1;34m(self, x, explode, labels, colors, autopct, pctdistance, shadow, labeldistance, startangle, radius, counterclock, wedgeprops, textprops, center, frame, rotatelabels)\u001b[0m\n\u001b[0;32m   2808\u001b[0m             \u001b[0mexplode\u001b[0m \u001b[1;33m=\u001b[0m \u001b[1;33m[\u001b[0m\u001b[1;36m0\u001b[0m\u001b[1;33m]\u001b[0m \u001b[1;33m*\u001b[0m \u001b[0mlen\u001b[0m\u001b[1;33m(\u001b[0m\u001b[0mx\u001b[0m\u001b[1;33m)\u001b[0m\u001b[1;33m\u001b[0m\u001b[1;33m\u001b[0m\u001b[0m\n\u001b[0;32m   2809\u001b[0m         \u001b[1;32mif\u001b[0m \u001b[0mlen\u001b[0m\u001b[1;33m(\u001b[0m\u001b[0mx\u001b[0m\u001b[1;33m)\u001b[0m \u001b[1;33m!=\u001b[0m \u001b[0mlen\u001b[0m\u001b[1;33m(\u001b[0m\u001b[0mlabels\u001b[0m\u001b[1;33m)\u001b[0m\u001b[1;33m:\u001b[0m\u001b[1;33m\u001b[0m\u001b[1;33m\u001b[0m\u001b[0m\n\u001b[1;32m-> 2810\u001b[1;33m             \u001b[1;32mraise\u001b[0m \u001b[0mValueError\u001b[0m\u001b[1;33m(\u001b[0m\u001b[1;34m\"'label' must be of length 'x'\"\u001b[0m\u001b[1;33m)\u001b[0m\u001b[1;33m\u001b[0m\u001b[1;33m\u001b[0m\u001b[0m\n\u001b[0m\u001b[0;32m   2811\u001b[0m         \u001b[1;32mif\u001b[0m \u001b[0mlen\u001b[0m\u001b[1;33m(\u001b[0m\u001b[0mx\u001b[0m\u001b[1;33m)\u001b[0m \u001b[1;33m!=\u001b[0m \u001b[0mlen\u001b[0m\u001b[1;33m(\u001b[0m\u001b[0mexplode\u001b[0m\u001b[1;33m)\u001b[0m\u001b[1;33m:\u001b[0m\u001b[1;33m\u001b[0m\u001b[1;33m\u001b[0m\u001b[0m\n\u001b[0;32m   2812\u001b[0m             \u001b[1;32mraise\u001b[0m \u001b[0mValueError\u001b[0m\u001b[1;33m(\u001b[0m\u001b[1;34m\"'explode' must be of length 'x'\"\u001b[0m\u001b[1;33m)\u001b[0m\u001b[1;33m\u001b[0m\u001b[1;33m\u001b[0m\u001b[0m\n",
      "\u001b[1;31mValueError\u001b[0m: 'label' must be of length 'x'"
     ]
    },
    {
     "data": {
      "image/png": "[encoded data removed]",
      "text/plain": [
       "<Figure size 1440x1440 with 1 Axes>"
      ]
     },
     "metadata": {
      "needs_background": "light"
     },
     "output_type": "display_data"
    }
   ],
   "source": [
    "plt.figure(figsize=(20,20))\n",
    "plt.subplot(3, 1, 1)\n",
    "plt.pie(test.Classificação.value_counts(sort=False),\n",
    "    labels=['Concorda','Discorda','Odeia'], \n",
    "    colors=[\"#44FF44\",\"#881111\",\"221122\"]);\n",
    "plt.legend()\n",
    "#---------------------------\n",
    "\n",
    "plt.figure(figsize=(20,20))\n",
    "plt.subplot(3, 1, 2)\n",
    "plt.pie(test.Classificação.value_counts(sort=False),\n",
    "    labels=['Concorda','Discorda','Odeia'], \n",
    "    colors=[\"#44FF44\",\"#881111\",\"221122\"]);\n",
    "plt.legend()\n",
    "#---------------------------\n",
    "\n",
    "plt.figure(figsize=(20,20))\n",
    "plt.subplot(3, 1, 3)\n",
    "plt.pie([acertos,len(test)-acertos],\n",
    "    explode=[1,-.95],\n",
    "    labels=['Acertos','Erros'], \n",
    "    colors=[\"#44FF44\",\"#881111\"]);\n",
    "plt.legend()\n",
    "\n",
    "plt.show()"
   ]
  },
  {
   "cell_type": "markdown",
   "metadata": {},
   "source": [
    "___\n",
    "### Concluindo"
   ]
  },
  {
   "cell_type": "markdown",
   "metadata": {},
   "source": [
    "Versão 1  (o objeto de clasificação ainda era Cinemark, mas como os erros daquela versão poderiam se repetir nessa e serviram para reflexões além de elaborações de uma maneira de \"consertá-los\".)\n",
    "22/03- o código roda mas claramente a classificação está com imperfeições isso pode se dar por:\n",
    " - erros de contabilização na fórmula do NaiveBayes\n",
    " - erros na clasificação do excel\n",
    " - certas palavras possuirem um viés deterministico mais forte para um dos lados (no caso a Opinião Positiva)"
   ]
  },
  {
   "cell_type": "code",
   "execution_count": null,
   "metadata": {},
   "outputs": [],
   "source": []
  },
  {
   "cell_type": "markdown",
   "metadata": {},
   "source": [
    "___\n",
    "## Aperfeiçoamento:\n",
    "\n",
    "Os trabalhos vão evoluir em conceito dependendo da quantidade de itens avançados:\n",
    "\n",
    "* <font color=#0FCF22> Limpar: \\n, :, \", ', (, ), etc SEM remover emojis  </font>\n",
    "* <font color=#FF0101> Corrigir separação de espaços entre palavras e emojis ou entre emojis e emojis </font>\n",
    "* <font color=#0F22CF> Propor outras limpezas e transformações que não afetem a qualidade da informação ou classificação </font>\n",
    "* <font color=#0FCF22> Criar categorias intermediárias de relevância baseadas na probabilidade: ex.: muito relevante, relevante, neutro, irrelevante, muito irrelevante (3 categorias: C, mais categorias conta para B) </font>\n",
    "* <font color=#0F22CF> Explicar por que não posso usar o próprio classificador para gerar mais amostras de treinamento </font>\n",
    "* <font color=#0F22CF> Propor diferentes cenários para Naïve Bayes fora do contexto do projeto </font>\n",
    "* <font color=#0FCF22> Sugerir e explicar melhorias reais com indicações concretas de como implementar (indicar como fazer e indicar material de pesquisa) </font>\n",
    "* <font color=#FF0101> Montar um dashboard que periodicamente realiza análise de sentimento e visualiza estes dados </font>"
   ]
  },
  {
   "cell_type": "markdown",
   "metadata": {},
   "source": [
    "___\n",
    "## Referências"
   ]
  },
  {
   "cell_type": "markdown",
   "metadata": {},
   "source": [
    "[Naive Bayes and Text Classification](https://arxiv.org/pdf/1410.5329.pdf)  **Mais completo**\n",
    "\n",
    "[A practical explanation of a Naive Bayes Classifier](https://monkeylearn.com/blog/practical-explanation-naive-bayes-classifier/) **Mais simples**"
   ]
  },
  {
   "cell_type": "code",
   "execution_count": null,
   "metadata": {},
   "outputs": [],
   "source": []
  }
 ],
 "metadata": {
  "kernelspec": {
   "display_name": "Python 3",
   "language": "python",
   "name": "python3"
  },
  "language_info": {
   "codemirror_mode": {
    "name": "ipython",
    "version": 3
   },
   "file_extension": ".py",
   "mimetype": "text/x-python",
   "name": "python",
   "nbconvert_exporter": "python",
   "pygments_lexer": "ipython3",
   "version": "3.7.1"
  }
 },
 "nbformat": 4,
 "nbformat_minor": 4
}
