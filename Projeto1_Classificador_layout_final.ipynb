{
 "cells": [
  {
   "cell_type": "markdown",
   "metadata": {},
   "source": [
    "# Projeto 1 - Ciência dos Dados"
   ]
  },
  {
   "cell_type": "markdown",
   "metadata": {},
   "source": [
    "Nome: Giovanni Rozatti\n",
    "\n",
    "Nome: Gabriel Parfan Guimarães"
   ]
  },
  {
   "cell_type": "markdown",
   "metadata": {},
   "source": [
    "Atenção: Serão permitidos grupos de três pessoas, mas com uma rubrica mais exigente. Grupos deste tamanho precisarão fazer um questionário de avaliação de trabalho em equipe"
   ]
  },
  {
   "cell_type": "markdown",
   "metadata": {},
   "source": [
    "___\n",
    "Carregando algumas bibliotecas:"
   ]
  },
  {
   "cell_type": "code",
   "execution_count": 1,
   "metadata": {},
   "outputs": [],
   "source": [
    "%matplotlib inline\n",
    "import pandas as pd\n",
    "import matplotlib.pyplot as plt\n",
    "import numpy as np\n",
    "import os"
   ]
  },
  {
   "cell_type": "code",
   "execution_count": 2,
   "metadata": {
    "scrolled": false
   },
   "outputs": [
    {
     "name": "stdout",
     "output_type": "stream",
     "text": [
      "Esperamos trabalhar no diretório\n",
      "C:\\Users\\User\\OneDrive - Insper - Institudo de Ensino e Pesquisa\\Desktop\\Insper\\2°Semestre DP\\CDados\\CD2020-Projeto1\n"
     ]
    }
   ],
   "source": [
    "print('Esperamos trabalhar no diretório')\n",
    "print(os.getcwd())"
   ]
  },
  {
   "cell_type": "markdown",
   "metadata": {},
   "source": [
    "Carregando a base de dados com os tweets classificados como relevantes e não relevantes:"
   ]
  },
  {
   "cell_type": "markdown",
   "metadata": {},
   "source": [
    "___\n",
    "## Classificador automático de sentimento\n"
   ]
  },
  {
   "cell_type": "markdown",
   "metadata": {},
   "source": [
    "- Produto escolhido: Atila Iamariano (@oatila)\n",
    "- Descrição do Produto: \n",
    "\n",
    "    Atila Iamarino (1984)é um biólogo e pesquisador brasileiro formado em microbiologia, possuindo também doutorado em virologia, notório por seu trabalho no canal de YouTube denominado \"Nerdologia\",que possui mais de 2 milhões de inscritos e integra o grupo Jovem Nerd, uma plataforma digital de cultura pop, jogos eletrônicos e conteúdo jovem. -Wikipedia  \n",
    "    \n",
    "    Átila já era bastante conhecido por seu canal no Youtube e por sua participação em podcasts, principalment do podcast Jovem Nerd) popularidade de Atila cresceu bastante atualmente, principalmente por conta do COVID-19, chegando a transmitir lives diárias, para falar da situação atual, cuidados preventivos e fazendo predições com uso de estatísticas e dados sobre como a situação se desdobraria, chegando a até mesmo a participar de um Programa do Roda-Viva `https://www.youtube.com/watch?v=s00BzYazxvU` - Observação de Giovanni Rozatti\n",
    "    ________________________________________________________________________________________________"
   ]
  },
  {
   "cell_type": "markdown",
   "metadata": {},
   "source": [
    "- Método de classificação: \n",
    "foram realizados 2 níveis de classificação, no primeiro foi classificada a relêvancia da mensagem, e no segundo era avaliado o teor da mensagem\n",
    "___\n",
    "\n",
    "Nível 1 de classificação:\n",
    "\n",
    "- Relevante: Tweets que contribuiriam com o processo de classificação por estarem relacionados ou ao tema discutido ou a algo próximo e/ou que continham elementos possiveis para que fosse feita a classificação do teor de sua mensagem  \n",
    "    \n",
    "- Irrelevante: Tweets que não contribuiam com o processo de classificação e/ou não podiam ser classificados por falta de elementos que possibilitassem isso,como por exemplo: \"@atila que hrs são\" (esse tweet de fato apareeu na base de dados)  \n",
    "    <font color=#DD4040>**Observação**: mensagens curtas demais com palavras inéditas ou menos frequentes também caem nessa categoria</font>\n",
    "    \n",
    "- Opinião Política: Tweets que continham mensagens de teor político e/ou próximos a política explícitos, como por exemplo, os termos que apareceram com recorrencia considerável : \"bolsominion\" e \"comunista\"\n",
    "    \n",
    "Nesse nível as mensagens foram separadas nas três categorias acima, com o objetivo de fazer uma refiltragem dos tweets obtidos, originalmente seriam apenas duas categorias (Relevante e Irrelevante), no entanto ao decorrer do processo foi vista a necessidade de estender ainda mais esse escopo, isso possibilitará a classificação das mensagens excluindo as irrelevantes e as que possuem teor político, assim como a classificação excluindo apenas as irrelevantes nos fornecendo como resultado a resposta da pergunta:\n",
    "\"Quanto as mensagens com teor político influenciam de fato na classificação?\"\n",
    "___\n",
    "\n",
    "Nível 2 de classificação:\n",
    "\n",
    "\n",
    "- Classificações atribuidas e o que levou a atribuirmos fraases a elas:\n",
    "\n",
    "    - Show and tell: Tweets que, traziam perguntas, questionamentos, pesquisas, dados, materiais de referencia e fontes para embasamentos e reflexões, em geral continham teor similar ao dos exemplos a seguir: \"@oatila @maisalguem vocês viram isso?\", \"@atila, o que voce acha de...?\"  Eram usados para ou apresentar o porque de concordar ou discordar, não necessáriamente do biólogo, mas de quem era citado através do @ junto com ele \n",
    "    \n",
    "    - Apoia/concorda: Tweets que em geral dizem: \"@oatila parabens pelo trabalho\", \"@oatila bacana essa info que você apresentou\"  \n",
    "    \n",
    "    - Discorda/Desacredita: Tweets que em geral fazem críticas ao trabalho feito, ou a uma posição que foi tomada, não necessariamente apresentando embasamento sobre o porque da crítica  \n",
    "    \n",
    "    - Mensagem de ódio:Tweets que apresentam mensagens ofensivas a esmo, (não necessáriamente ao biologo, mas ainda assim perinentes ao trabalho como será visto mais adiante nesse Notebook)*  \n",
    "    \n",
    "Nesse nível as mensagens foram separadas nas quatro categorias acima, com o objetivo de própriamente classificá-las para que pudessem passar pelo processo de slicing e classificação de palavras\n",
    "A classificação nessa parte foi feita de acordo com o seguinte método:   \n",
    "1. Se possível classificar como o classifiador Naive Bayes final do projeto faria, isso é analisar as palavras individualmente tentando prever o resultado da classificação.    \n",
    "2. Se não for possível classificar via método anterior classificar a frase como um todo de acordo com o teor que contém\n",
    "3. Se não for possível classificar de acordo com método anterior, marcar tweet como Irrelevante no nível de classificação 1**\n",
    "\n",
    "  $*$ Muitas das mensagens de ódio não estavam sendo direcionadas ao Biólogo mas a principalmente à @embaixadadachina e @mariuzakrause  \n",
    "  $**$Não hoveram casos em que o método 3 tenha sido utilizado\n",
    "\n",
    "   - @embaixadadachina:Trazendo a China para perto de você! Conta oficial da Embaixada da República Popular da China na República Federativa do Brasil. - bio no twitter da embaixada  \n",
    "   \n",
    "        Foi alvo de várias mensagens de ódio falando principalmente:sobre sistema político-sócio-econômico chinês, e acusações de culpa pela disseminação do COVID-19, por conta de supostas alerações em estatísticas e por o vírus ser \"uma criação deles\"; A motivação dessas mensagens foi que o biólogo ter utilizado de pesquisas fornecidas pelo país  \n",
    "\n",
    "   - @mariuzakrause: Direita, conservadora, bolsonariana, Jacobina, gado do Bolsonaro, Advogada nas horas vagas, petistas desapareçam! - bio no twitter de Mariuza  \n",
    "         \n",
    "        Foi alvo de várias mensagens de ódio falando principalmente:sobre sua oientação política, autenticidade de sua formação em direito; A motivação dessas mensagens foi que mariuza discordou publiamente sobre o posicionamento do biólogo em relação a quarentena, chegando a difamá-lo em relação aos resultados obtidos através de algumas pesquisas dizendo que Átila estaria \"passando vergonha\"  \n",
    "        \n",
    "\n",
    "\n",
    "___\n",
    "<font color=#EF3333> - **Observação: a estrutura do código a seguir é similar ao do usado no meu trabalho no semestre anterior (perfil no git: VonIgnia), e pode ser visto em: `https://github.com/carolinechaim/Projeto_2/blob/master/NaiveBayes teste 1.ipynb` mais especificamente nos commits \"Planilha teste rodando no Jupyter\" e \"Planilha teste rodando os classificadores NaiveBayes\".**</font>"
   ]
  },
  {
   "cell_type": "markdown",
   "metadata": {},
   "source": [
    "___\n",
    "### Montando um Classificador Naive-Bayes\n",
    "\n",
    "Considerando apenas as mensagens da planilha Treinamento, ensine  seu classificador."
   ]
  },
  {
   "cell_type": "code",
   "execution_count": 3,
   "metadata": {},
   "outputs": [],
   "source": [
    "#Lê as planilhas de treinamento\n",
    "training = pd.read_excel(\"@oatila1.xlsx\",sheet_name = 'Treinamento', index = False)"
   ]
  },
  {
   "cell_type": "code",
   "execution_count": 4,
   "metadata": {},
   "outputs": [],
   "source": [
    "#A função elimina tweets considerados como irrlevantes para o classificador\n",
    "\n",
    "#A variável Elimina recebe uma string pertencente a categoria Nivel de Relevancia \n",
    "#(\"Relevante\", \"Irrelevante\" e \"Opinião Política\")\n",
    "\n",
    "def Elimina_por_nível_de_relevância(train,Elimina):\n",
    "    for i in range(0, len(Elimina)):\n",
    "        train.drop(train[ train['Nível de relevância'] == Elimina[i].rstrip()].index, inplace=True)\n",
    "    return train\n",
    "\n",
    "#A função calcula as frequências relativas de cada categoria\n",
    "def Calcula_frequencias_relativas(train,relative):\n",
    "#Calcula as frequências relativas de cada categoria dentre o que foi considerado Relevante\n",
    "    probs = train[\"Opinião Pública\"].value_counts(relative)\n",
    "    return probs"
   ]
  },
  {
   "cell_type": "code",
   "execution_count": 5,
   "metadata": {
    "scrolled": false
   },
   "outputs": [],
   "source": [
    "#lista de categorias a serem eliminadas\n",
    "Relev_Eliminate = ['Irrelevante']\n",
    "\n",
    "#chamando por outro nome para evitar o re-run de training /n\n",
    "#caso contrário training assumiria o valor do return da /n\n",
    "#função o que deixaria tudo mais complicado\n",
    "\n",
    "treino = Elimina_por_nível_de_relevância (training,Relev_Eliminate)\n",
    "freq_relativas = Calcula_frequencias_relativas(treino,True)"
   ]
  },
  {
   "cell_type": "code",
   "execution_count": 6,
   "metadata": {},
   "outputs": [],
   "source": [
    "prob_apoio_a_priori = freq_relativas[0]\n",
    "prob_mostra_a_priori = freq_relativas[1]\n",
    "prob_odeia_a_priori = freq_relativas[2]\n",
    "prob_discorda_a_priori = freq_relativas[3]"
   ]
  },
  {
   "cell_type": "code",
   "execution_count": 7,
   "metadata": {},
   "outputs": [
    {
     "data": {
      "image/png": "[encoded data removed]",
      "text/plain": [
       "<Figure size 432x288 with 1 Axes>"
      ]
     },
     "metadata": {},
     "output_type": "display_data"
    }
   ],
   "source": [
    "#Como facilita a vizualização e como engenheiros gostam aqui temos um gráfico\n",
    "plt.pie(treino[\"Opinião Pública\"].value_counts(),\n",
    "    labels=treino[\"Opinião Pública\"].value_counts().index, \n",
    "    colors=[\"#AA80EE\",\"#80F080\",\"#F06060\",\"#FFF080\"]);\n",
    "plt.legend(bbox_to_anchor=(1.25, 0.75,0.25,0))\n",
    "plt.show()"
   ]
  },
  {
   "cell_type": "markdown",
   "metadata": {},
   "source": [
    "Separa todas as palavras que aparecem em cada categoria no formato de uma Série"
   ]
  },
  {
   "cell_type": "code",
   "execution_count": 8,
   "metadata": {},
   "outputs": [],
   "source": [
    "def Separa_palavras_em_series(train,lista_classificações):\n",
    "    series_categories=[]\n",
    "    for i in range(0,len(lista_classificações)):\n",
    "        category = train[train[\"Opinião Pública\"] == lista_classificações[i]]\n",
    "        category = category[\"Treinamento\"].str.cat().split()\n",
    "        series_categories.append(pd.Series(category))\n",
    "#====================================================================================================== \n",
    "    #-------------------------------------------------\n",
    "      ### tentativa (falha) de deixar o código genérico e portanto aplicável a qq objeto de estudo /n\n",
    "      ### para qq número de ccategorias, quaisquer que fosse sua ordem:\n",
    "    #------------\\/código das tentativas\\/--------------    \n",
    "        #for i in range(0,len(series_categories)):\n",
    "           # setattr('Series'+str(lista_classificações[i], 'foobar', series_categories[i])\n",
    "           # eval('Series'+str(lista_classificações[i]))series_categories[i]\n",
    "    #-------------------------------------------------\n",
    "#======================================================================================================    \n",
    "    return series_categories\n",
    "lista_classificações = treino[\"Opinião Pública\"].value_counts(sort=False).index.tolist()\n",
    "series_categorias = Separa_palavras_em_series(treino,lista_classificações) #Uma lista de 4 series;\n",
    "series_categorias;"
   ]
  },
  {
   "cell_type": "code",
   "execution_count": 21,
   "metadata": {},
   "outputs": [
    {
     "data": {
      "text/plain": [
       "0                @oatila\n",
       "1             exatamente\n",
       "2                isso!!!\n",
       "3                      e\n",
       "4                      o\n",
       "5                   povo\n",
       "6                    não\n",
       "7                entende\n",
       "8       🤯😰@mariuzakrause\n",
       "9              @maozinbr\n",
       "10               @oatila\n",
       "11               estudar\n",
       "12        mais???@oatila\n",
       "13        @mariuzakrause\n",
       "14                 cara,\n",
       "15                     n\n",
       "16                   cai\n",
       "17                    na\n",
       "18            provocação\n",
       "19                 dessa\n",
       "20               galera,\n",
       "21                 estão\n",
       "22              montando\n",
       "23                   uma\n",
       "24             narrativa\n",
       "25                    em\n",
       "26                  cima\n",
       "27                    de\n",
       "28                   vc,\n",
       "29                  jaja\n",
       "              ...       \n",
       "1532                 que\n",
       "1533                 ele\n",
       "1534                 não\n",
       "1535               possa\n",
       "1536              errar,\n",
       "1537        [...]@oatila\n",
       "1538               lenha\n",
       "1539                 nos\n",
       "1540                 eua\n",
       "1541                   e\n",
       "1542            aplausos\n",
       "1543                 pra\n",
       "1544               china\n",
       "1545                  já\n",
       "1546                 foi\n",
       "1547                 até\n",
       "1548          mencionado\n",
       "1549                pela\n",
       "1550           embaixada\n",
       "1551               hein,\n",
       "1552              atila!\n",
       "1553         \"parabéns\"!\n",
       "1554                   é\n",
       "1555                tudo\n",
       "1556            ciência!\n",
       "1557                 não\n",
       "1558                 tem\n",
       "1559            política\n",
       "1560                não,\n",
       "1561          amiguinho!\n",
       "Length: 1562, dtype: object"
      ]
     },
     "execution_count": 21,
     "metadata": {},
     "output_type": "execute_result"
    }
   ],
   "source": [
    "#isso só pode ser feito quando Sort=False e quando a ordem,/n\n",
    "#é conhecida caso contrário pode criar erros no classificador\n",
    "series_Apoia    = pd.Series(series_categorias[0])\n",
    "series_Discorda = pd.Series(series_categorias[1])\n",
    "series_Odeia    = pd.Series(series_categorias[2])\n",
    "series_Mostra   = pd.Series(series_categorias[3])\n",
    "series_Apoia"
   ]
  },
  {
   "cell_type": "markdown",
   "metadata": {},
   "source": [
    "Criando uma \"tabela\" com a probabilidade individual de todas as palavras aparecerem em uma dada categoria\n",
    "(\"Dado que a opinião é essa qual a probabilidade dessa palavra aparecer?\")"
   ]
  },
  {
   "cell_type": "code",
   "execution_count": 24,
   "metadata": {},
   "outputs": [
    {
     "data": {
      "text/plain": [
       "que                       0.033931\n",
       "o                         0.028809\n",
       "@oatila                   0.026248\n",
       "e                         0.026248\n",
       "de                        0.023688\n",
       "a                         0.021127\n",
       "é                         0.018566\n",
       "não                       0.016645\n",
       "uma                       0.013444\n",
       "pra                       0.011524\n",
       "do                        0.009603\n",
       "se                        0.007682\n",
       "da                        0.007682\n",
       "com                       0.007682\n",
       "tem                       0.007042\n",
       "por                       0.007042\n",
       "na                        0.007042\n",
       "eu                        0.006402\n",
       "você                      0.006402\n",
       "um                        0.005762\n",
       "mais                      0.005762\n",
       "mas                       0.005762\n",
       "isso                      0.005762\n",
       "em                        0.005122\n",
       "seu                       0.005122\n",
       "como                      0.004481\n",
       "ele                       0.004481\n",
       "as                        0.004481\n",
       "foi                       0.004481\n",
       "no                        0.004481\n",
       "                            ...   \n",
       "descreditar               0.000640\n",
       "vao                       0.000640\n",
       "\"alguns                   0.000640\n",
       "🤯😰@mariuzakrause          0.000640\n",
       "lado                      0.000640\n",
       "morrer                    0.000640\n",
       "luto                      0.000640\n",
       "ídolo                     0.000640\n",
       "mta                       0.000640\n",
       "tuíte                     0.000640\n",
       "doutorado                 0.000640\n",
       "paga                      0.000640\n",
       "😎👍@oatila                 0.000640\n",
       "estuda                    0.000640\n",
       "diogo,                    0.000640\n",
       "países,                   0.000640\n",
       "governadores              0.000640\n",
       "também                    0.000640\n",
       "mental,                   0.000640\n",
       "aprendi                   0.000640\n",
       "ciência                   0.000640\n",
       "aconteceu                 0.000640\n",
       "caceta,                   0.000640\n",
       "dizer                     0.000640\n",
       "ajudar                    0.000640\n",
       "entende                   0.000640\n",
       "cuidado,                  0.000640\n",
       "lado,                     0.000640\n",
       "sinceramente...@oatila    0.000640\n",
       "disso.                    0.000640\n",
       "Length: 830, dtype: float64"
      ]
     },
     "execution_count": 24,
     "metadata": {},
     "output_type": "execute_result"
    }
   ],
   "source": [
    "tabela_Apoia    = series_Apoia.value_counts(True)\n",
    "tabela_Discorda = series_Discorda.value_counts(True)\n",
    "tabela_Odeia    = series_Odeia.value_counts(True)\n",
    "tabela_Mostra   = series_Mostra.value_counts(True)\n",
    "tabela_Apoia \n",
    "#esse resultado também varia com motivo oculto, acredito que o problema de \\n\n",
    "#variação do fim do código se inicia no ponto de primeira variação que pode \\n\n",
    "#anteceder esse, mas por enquanto essa é a hipótese que foi estabelecida pra debug:\n",
    "#uma célula no incio tem variação e a variação se propaga até o resultado final\n",
    "#suposta solução: \"subir\" e ir dando re-run em tudo até achar a primeira variação"
   ]
  },
  {
   "cell_type": "markdown",
   "metadata": {},
   "source": [
    "\"Raptando\" a função de limpeza de pontuações e sinais do notebook da aula 7:"
   ]
  },
  {
   "cell_type": "code",
   "execution_count": 11,
   "metadata": {},
   "outputs": [],
   "source": [
    "import re \n",
    "def cleanup(text):\n",
    "    \"\"\"\n",
    "        Função de limpeza muito simples que troca alguns sinais básicos por espaços\n",
    "    \"\"\"\n",
    "    #import string\n",
    "    #punctuation = '[!-.:?;\")(]' # Note que os sinais [] são delimitadores de um conjunto.\n",
    "    punctuation =\"['(',')','\"',\"'\",',','.',':']\"\n",
    "    pattern = re.compile(punctuation)\n",
    "    text_subbed = re.sub(pattern, ' ', text)\n",
    "    return text_subbed"
   ]
  },
  {
   "cell_type": "markdown",
   "metadata": {},
   "source": [
    "Criando uma função que faz o calculo da frase pertencer a uma categoria utilizando a fórmula de bayes"
   ]
  },
  {
   "cell_type": "code",
   "execution_count": 12,
   "metadata": {},
   "outputs": [],
   "source": [
    "def classificador_de_palavras_multinomial_naive_bayes(tweet):  \n",
    "    \n",
    "    prob_Apoia = 1\n",
    "    prob_Discorda = 1\n",
    "    prob_Odeia = 1\n",
    "    prob_Mostra = 1\n",
    "      \n",
    "    lista_palavras = cleanup(tweet).split()\n",
    "    for palavra in lista_palavras:\n",
    "\n",
    "    #===\\/ O que o classificador faz quanto a palavras inéditas \\/===\n",
    "    #Palavras novas não alteram a classificação atual, no entanto um tweet\n",
    "    #composto exclusivamente por palavras novas \"quebraria\" a classificação\n",
    "        #---------------------------------------------------\n",
    "        if palavra in tabela_Apoia.index:\n",
    "            prob_palavra_Apoia = tabela_Apoia[palavra]\n",
    "        else:\n",
    "            prob_palavra_Apoia = 1\n",
    "        #---------------------------------------------------    \n",
    "        if palavra in tabela_Discorda.index:\n",
    "            prob_palavra_Discorda = tabela_Discorda[palavra]\n",
    "        else:\n",
    "            prob_palavra_Discorda = 1\n",
    "        #---------------------------------------------------\n",
    "        if palavra in tabela_Odeia.index:\n",
    "            prob_palavra_Odeia = tabela_Odeia[palavra]\n",
    "        else:\n",
    "            prob_palavra_Odeia = 1\n",
    "        #---------------------------------------------------\n",
    "        if palavra in tabela_Mostra.index:\n",
    "            prob_palavra_Mostra = tabela_Mostra[palavra]\n",
    "        else:\n",
    "            prob_palavra_Mostra = 1\n",
    "        #---------------------------------------------------\n",
    "    #===========================================================\n",
    "\n",
    "        prob_Apoia *= prob_palavra_Apoia\n",
    "        prob_Discorda *= prob_palavra_Discorda\n",
    "        prob_Odeia *= prob_palavra_Odeia\n",
    "        prob_Mostra *= prob_palavra_Mostra\n",
    "        \n",
    "    #=========================================================== \n",
    "    #Se não houver alteração no valor inicial (1) é porque não /n\n",
    "    # foram detectadas nenhuma  pertencente áquela categoria\n",
    "    #Reseta a probabilidade da categoria.\n",
    "    # (transformar em função??????????????)\n",
    "\n",
    "        #---------------------------------------------------\n",
    "        if prob_Apoia == 1:\n",
    "            prob_Apoia = 0\n",
    "        #---------------------------------------------------\n",
    "        if prob_Discorda == 1:\n",
    "            prob_Discorda = 0\n",
    "        #---------------------------------------------------\n",
    "        if prob_Odeia == 1:\n",
    "            prob_Odeia = 0\n",
    "        #---------------------------------------------------\n",
    "        if prob_Mostra == 1:\n",
    "            prob_Mostra = 0\n",
    "        #---------------------------------------------------\n",
    "        \n",
    "        prob_Apoia *= prob_apoio_a_priori\n",
    "        prob_Discorda *= prob_discorda_a_priori\n",
    "        prob_Odeia *= prob_odeia_a_priori\n",
    "        prob_Mostra *= prob_mostra_a_priori\n",
    "            \n",
    "        if (prob_Apoia > prob_Discorda) and (prob_Apoia > prob_Mostra) and (prob_Apoia > prob_Odeia):\n",
    "            return \"Apoio/Concorda\"\n",
    "        elif (prob_Discorda > prob_Apoia) and (prob_Discorda > prob_Mostra) and (prob_Discorda > prob_Odeia):\n",
    "            return \"Discorda/Desacredita\"\n",
    "        elif (prob_Odeia > prob_Apoia) and (prob_Odeia > prob_Discorda) and (prob_Odeia > prob_Mostra):\n",
    "            return \"Mensagem de ódio\"\n",
    "        elif (prob_Mostra > prob_Apoia) and (prob_Mostra > prob_Discorda) and (prob_Mostra > prob_Odeia):\n",
    "            return \"Show and tell\""
   ]
  },
  {
   "cell_type": "markdown",
   "metadata": {},
   "source": [
    "___\n",
    "### Verificando a performance do Classificador\n",
    "\n",
    "Agora você deve testar o seu classificador com a base de Testes."
   ]
  },
  {
   "cell_type": "markdown",
   "metadata": {},
   "source": [
    "leitura da planilha para testes com o classificador"
   ]
  },
  {
   "cell_type": "code",
   "execution_count": 13,
   "metadata": {},
   "outputs": [],
   "source": [
    "test = pd.read_excel(\"@oatila1.xlsx\",sheet_name = 'Teste', index = False).set_index(\"Teste\")\n",
    "target = test[\"Target\"]\n",
    "test = test.drop(columns=[\"Target\"])\n",
    "lista_tweets = list(test.index)"
   ]
  },
  {
   "cell_type": "code",
   "execution_count": 14,
   "metadata": {},
   "outputs": [
    {
     "data": {
      "text/plain": [
       "Show and tell       16\n",
       "Mensagem de ódio     2\n",
       "Name: Classificação, dtype: int64"
      ]
     },
     "execution_count": 14,
     "metadata": {},
     "output_type": "execute_result"
    }
   ],
   "source": [
    "#Célula de debugging\n",
    "#Se o resultado da classificação está variando o resultado para frases extraídas também /n\n",
    "#teria a tendencia de variar\n",
    "\n",
    "frases_extraídas = pd.read_excel(\"@oatila1.xlsx\",sheet_name = 'Teste', index = False).set_index(\"Teste\").head(20)\n",
    "frases_extraídas = frases_extraídas.drop(columns=[\"Target\"])\n",
    "tweets_debug = list(frases_extraídas.index)\n",
    "for tweet in tweets_debug:\n",
    "    frases_extraídas.loc[tweet,\"Classificação\"] = classificador_de_palavras_multinomial_naive_bayes(tweet)\n",
    "frases_extraídas.Classificação.value_counts()"
   ]
  },
  {
   "cell_type": "code",
   "execution_count": 15,
   "metadata": {},
   "outputs": [],
   "source": [
    "for tweet in lista_tweets:\n",
    "    test.loc[tweet,\"Classificação\"] = classificador_de_palavras_multinomial_naive_bayes(tweet)\n",
    "test;\n",
    "\n",
    "#os problemas relatados no notebbok Projeto1_Classificador_layout_Relatório_de_erros foram eliminados /n\n",
    "#nesse notebook no entanto tweets muito curtos (baixo número de palavras), com strings inéditas/n\n",
    "#(geralmente variações de kkk com mais ou menos caracteres) e links não puderam ser classificados/n\n",
    "#felizmente eles são uma minoria e portanto a eliminação desses não acarreta em significativos impactos/n\n",
    "#para o classsificador, no entanto há de fato um problema significativo nesse classificador: /n\n",
    "#ele não classifica NENHUMA mwnsagem como \"Show and Tell\" o que é estranho, visto que esses /n\n",
    "#representam cerca de 25% dos tweet classificados ou como não irrelevantes./n\n",
    "#após análise sobre isso, percebi que não existem inconsistencias no código e que portanto/n\n",
    "#não faz sentido obter esse resultado"
   ]
  },
  {
   "cell_type": "code",
   "execution_count": 16,
   "metadata": {},
   "outputs": [],
   "source": [
    "acertos = 0\n",
    "for i in range(len(test)):\n",
    "        if test.Classificação[i] == target[i]:\n",
    "            acertos+=1\n",
    "erros = len(test) - acertos"
   ]
  },
  {
   "cell_type": "code",
   "execution_count": 17,
   "metadata": {},
   "outputs": [
    {
     "data": {
      "text/plain": [
       "Show and tell           215\n",
       "Mensagem de ódio         26\n",
       "Discorda/Desacredita     15\n",
       "Apoio/Concorda           15\n",
       "Name: Classificação, dtype: int64"
      ]
     },
     "execution_count": 17,
     "metadata": {},
     "output_type": "execute_result"
    }
   ],
   "source": [
    "test.Classificação.value_counts()"
   ]
  },
  {
   "cell_type": "code",
   "execution_count": 18,
   "metadata": {},
   "outputs": [
    {
     "data": {
      "text/plain": [
       "Mensagem de ódio        176\n",
       "Apoio/Concorda           82\n",
       "Discorda/Desacredita     78\n",
       "Show and tell            62\n",
       "Name: Target, dtype: int64"
      ]
     },
     "execution_count": 18,
     "metadata": {},
     "output_type": "execute_result"
    }
   ],
   "source": [
    "target.value_counts()"
   ]
  },
  {
   "cell_type": "code",
   "execution_count": 19,
   "metadata": {},
   "outputs": [
    {
     "data": {
      "image/png": "[encoded data removed]",
      "text/plain": [
       "<Figure size 4320x1440 with 3 Axes>"
      ]
     },
     "metadata": {},
     "output_type": "display_data"
    }
   ],
   "source": [
    "plt.figure(figsize=(60,20))\n",
    "\n",
    "plt.subplot(4, 1, 1)\n",
    "plt.title(\"Previsão do Classificador\")\n",
    "plt.pie(test.Classificação.value_counts(),\n",
    "    labels=test.Classificação.value_counts().index, \n",
    "    colors=[\"#F06060\",\"#80F080\",\"#AA80EE\",\"#FFF080\"]);\n",
    "plt.legend(bbox_to_anchor=(1.25, 0.75,0.25,0))\n",
    "#---------------------------\n",
    "\n",
    "plt.subplot(4, 1, 2)\n",
    "plt.title(\"Classificação Real\")\n",
    "plt.pie(target.value_counts(),\n",
    "    labels=target.value_counts().index, \n",
    "    colors=[\"#80F080\",\"#AA80EE\",\"#FFF080\",\"#F06060\"]);\n",
    "plt.legend(bbox_to_anchor=(1.25, 0.75,0.25,0))\n",
    "#---------------------------\n",
    "\n",
    "plt.subplot(4, 1, 3)\n",
    "plt.title(\"Medidor de acurácia\")\n",
    "plt.pie([acertos,erros],\n",
    "    explode=(0.05,0.05),\n",
    "    labels=['Acertos {0:.2f}%'.format(acertos*100/len(test)) ,'Erros {0:.2f}%'.format(erros*100/len(test))], \n",
    "    colors=[\"#44FF44\",\"#881111\"]);\n",
    "plt.legend(bbox_to_anchor=(1, 1,0.25,0))\n",
    "\n",
    "plt.show()"
   ]
  },
  {
   "cell_type": "markdown",
   "metadata": {},
   "source": [
    "___\n",
    "### Diferentes aplicações para um classificador NaiveBayes:  \n",
    "\n",
    "- Dado que os clientes de uma lanchonete gostam de uma determinada bebida e gostam de um determinado combo com essa bebida e lanche, o classificador Naive Bayes poderia ser utilizado nesse exemplo para determinar a probabilidade dos clientes gostarem só do lanche  \n",
    "- Um classificador Naive Bayes poderia ser utilizado para classificar mensagens de e-mail como spam ou não spam\n",
    "- Basicamente quaisquer dois ou mais eventos com probabilidades independentes de ocorrer (em relação uns aos outro) e que possam acontecer juntos (simultanea ou consecutivamente) são passiveis do uso de um classificador Naive Bayes para determinar a probabilidade de um evento ocorrer dado que são conhecidos apenas:\n",
    "    - a probabilidade de um evento ocorrer junto com outro(que se deseja determinar) $P(A∩B)$  ou a probabbilidade do evento B $P(B)$ ocorrer\n",
    "    - a probabilidade de um evento(A) ocorrer dado que outro evento(B) ocorre $P(A\\mid B) = \\frac{P(A\\cap B)}{P(B)}$  \n",
    "    - a probabilidade de um evento(B) ocorrer dado que outro evento(A) ocorre $P(B\\mid A)$  \n",
    "\n",
    "Com isso é possivel determinar $P(A)$"
   ]
  },
  {
   "cell_type": "markdown",
   "metadata": {},
   "source": [
    "___\n",
    "### Por que não é viável fazer o classificador gerar amostras de treinamento?\n",
    "\n",
    "Supondo o caso de um projeto perfeito com classificação de 100% de acurácia comece a fazer retroalimentação (começar a gerar amostras de treinamento para si mesmo), caso ele cometa um pequeno erro (o motivo provável disso seria a probabilidade relativa de uma palavra crescer a ponto de gerar um viés, ao exemplo de um tweet com a repetição de uma única string várias vezes até atingir o número maximo de caracteres permitidos pelo twitter), a classificação vai perder acuracia e cada vez que ele repetir esse processo estará sujeito a perder cada vez mais. Se até mesmo sob as circunstancias anteriores (supostamente ideais) não é recomendável fazer retroalimentação, não seria viável para nenhum outro classificador. \n",
    "\n",
    "Para que o classificador possa gerar amostras de treinamento é necessário que em algum ponto essas passem por um processo de classificação não automatizado (não há garantia de que isso não irá piorar a classificação, mas provavelmente piorará menos que caso fosse feito pelo próprio classificador)"
   ]
  },
  {
   "cell_type": "markdown",
   "metadata": {},
   "source": [
    "___\n",
    "### Outras propostas de limpeza:\n",
    "- Eliminação de retweets (foi feita e pode ser vista no Notebook \"Projeto_1_Obtenção_dos_tweets\")\n",
    "- Remoção de strings iniciadas com @\n",
    "- Separação de strings com @ no meio:\n",
    "    - exemplo: PréArroba@PósArroba -> PréArroba @PósArroba  \n",
    "    - E seguindo a regra do item anterior \"@PósArroba\" por começar com \"@\" seria excluido\n",
    "- não classificar e excluir tweets com uma contagem de palavras inferior a determinado valor, por exemplo: 7 palavras*\n",
    "\n",
    "\n",
    "$*$ **Contabilizadas após remoção de strings que começam com @** "
   ]
  },
  {
   "cell_type": "markdown",
   "metadata": {},
   "source": [
    "___\n",
    "### Concluindo\n",
    "Versão 1  (o objeto de clasificação ainda era Cinemark, mas como os erros daquela versão poderiam se repetir nessa e serviram para reflexões além de elaborações de uma maneira de \"consertá-los\".)\n",
    "22/03- o código roda mas claramente a classificação está com imperfeições isso pode se dar por:\n",
    " - erros de contabilização na fórmula do NaiveBayes\n",
    " - erros na clasificação do excel\n",
    " - certas palavras possuirem um viés deterministico mais forte para um dos lados (no caso a Opinião Positiva) \n",
    " \n",
    "Versão 2 houve um grande avanço quando comparado à versão anterior, agora o código faz classificação multinomial e não mais binária, possui um target para comparar a planilha de testes com, plota gráficos para as categorias classificadas para as categorias existentes no target e para o número de acertos em relação ao total de mensagens classificadas, ainda assim existem problemas na classificação:\n",
    " - o classificador não consegue classificar na categoria \"Show and tell\"\n",
    " - frases com menos de 10 palavras estão mais sujeitas a não serem classificadas corretamente.\n",
    " - parte da limpeza não pode ser realizada, isso está justificado no Notebook \"Relatório de Erros\"$*$\n",
    "    $*$ mais especificamente a parte que fazia a limpeza de \\n e de @PerfilOuPaginaNoTwitter\n",
    "    \n",
    "Versão 3 Foi descoberto que o resultado do classificador está variando e varia sem um motivo específico detectado, como última mudança até a versão final, só resta outra depuração pra tentar compreender o motivo de tamanha variação, provavelmente o mesmo do \"Show and Tell\" não ser clssificado, no entanto esse comportamento não faz sentido. A conclusão dessa versão é que o classificador não poderia ser aplicado em analise de dados devido ao resultado flutuar\n",
    "___________________________________________________________________________________________________________\n",
    "<font color=#FF0101> Nota do developer:A versão 3 e 4 deveriam ter sido separadas por um commit </font>  \n",
    "As únicas mudanças foram:  \n",
    "\n",
    "Fora da função Multinomial_Naive_bayes_classifier:  \n",
    "   - criação das variaveis prob_a_priori na célula 6 do código  \n",
    "   \n",
    "Dentro da função Multinomial_Naive_bayes_classifier:  \n",
    "   - Remoção de \"prob_Apoia = 1\"(e de outras de mesma estrutura)  que foram movidas para o lado de fora do for e que portanto não são mais reiniciadas a cada palvra\n",
    "   - Multiplicação por variaveis prob_a_priori criadas na célula 6 do código\n",
    "___________________________________________________________________________________________________________\n",
    "Versão 4 O classificador continua a flutuar mas passou a exibir show and tell portanto o motivo de não exibição e de aleatoriedade não são os mesmos, e ao ser comparado com o target a classificação está ruim, além disso não foi possível determinar qual o motivo do resultado randomico, com isso o classificador continua não sendo totalmente aplicável em análise de dados  \n",
    "PS: Agora percebi que o target também está variando, e isso é ainda mais sem sentido e inconsistente  \n",
    "PPS: A variação no target é a troca da posição de elementos, ou seja: os valores são os mesmos no entanto eles estão permutando indexes entre si\n",
    "\n",
    "Versão 5: \n",
    "- A variação do target foi consertada, através da remoção de todos os (sort=False) desnecessários"
   ]
  },
  {
   "cell_type": "markdown",
   "metadata": {},
   "source": [
    "___\n",
    "## Aperfeiçoamento:\n",
    "\n",
    "Os trabalhos vão evoluir em conceito dependendo da quantidade de itens avançados:\n",
    "\n",
    "* <font color=#AF22AF> Limpar: \\n, :, \", ', (, ), etc SEM remover emojis  </font>*\n",
    "* <font color=#FF0101> Corrigir separação de espaços entre palavras e emojis ou entre emojis e emojis </font>\n",
    "* <font color=#0FCF22> Propor outras limpezas e transformações que não afetem a qualidade da informação ou classificação </font>\n",
    "* <font color=#0FCF22> Criar categorias intermediárias de relevância baseadas na probabilidade: ex.: muito relevante, relevante, neutro, irrelevante, muito irrelevante (3 categorias: C, mais categorias conta para B) </font>\n",
    "* <font color=#0FCF22> Explicar por que não posso usar o próprio classificador para gerar mais amostras de treinamento </font>\n",
    "* <font color=#0FCF22> Propor diferentes cenários para Naïve Bayes fora do contexto do projeto </font>\n",
    "* <font color=#0FCF22> Sugerir e explicar melhorias reais com indicações concretas de como implementar (indicar como fazer e indicar material de pesquisa) </font>\n",
    "* <font color=#FF0101> Montar um dashboard que periodicamente realiza análise de sentimento e visualiza estes dados </font>\n",
    "____\n",
    "Legenda:\n",
    "- <font color=#0FCF22>Verde</font>: feito e concluído\n",
    "- <font color=#AF22AF>Roxo</font>: feito parcialmente\n",
    "- <font color=#FF0101>Vermelho</font>: não adicionado\n",
    "\n",
    "**$*$ Só faltou o \\n (quebras de linha)**"
   ]
  },
  {
   "cell_type": "markdown",
   "metadata": {},
   "source": [
    "___\n",
    "## Referências"
   ]
  },
  {
   "cell_type": "markdown",
   "metadata": {},
   "source": [
    "[Naive Bayes and Text Classification](https://arxiv.org/pdf/1410.5329.pdf)  **Mais completo**\n",
    "\n",
    "[A practical explanation of a Naive Bayes Classifier](https://monkeylearn.com/blog/practical-explanation-naive-bayes-classifier/) **Mais simples**"
   ]
  },
  {
   "cell_type": "markdown",
   "metadata": {},
   "source": [
    "Esse notebbok foi por um breve periodo de tempo chamado de \"Projeto1_Classificador_layout-Depuração\", após a depuração ser realizada com sucesso ele se tornou o \"Projeto1_Classificador_layout_final\" e o antigo \"Projeto1_Classificador_layout\" se tornou \"Projeto1_Classificador_layout_Relatório_de_Erros\""
   ]
  }
 ],
 "metadata": {
  "kernelspec": {
   "display_name": "Python 3",
   "language": "python",
   "name": "python3"
  },
  "language_info": {
   "codemirror_mode": {
    "name": "ipython",
    "version": 3
   },
   "file_extension": ".py",
   "mimetype": "text/x-python",
   "name": "python",
   "nbconvert_exporter": "python",
   "pygments_lexer": "ipython3",
   "version": "3.7.1"
  }
 },
 "nbformat": 4,
 "nbformat_minor": 4
}
